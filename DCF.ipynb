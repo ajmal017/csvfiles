{
  "nbformat": 4,
  "nbformat_minor": 0,
  "metadata": {
    "colab": {
      "name": "DCF.ipynb",
      "provenance": [],
      "collapsed_sections": [],
      "include_colab_link": true
    },
    "kernelspec": {
      "name": "python3",
      "display_name": "Python 3"
    }
  },
  "cells": [
    {
      "cell_type": "markdown",
      "metadata": {
        "id": "view-in-github",
        "colab_type": "text"
      },
      "source": [
        "<a href=\"https://colab.research.google.com/github/animalran/csvfiles/blob/master/DCF.ipynb\" target=\"_parent\"><img src=\"https://colab.research.google.com/assets/colab-badge.svg\" alt=\"Open In Colab\"/></a>"
      ]
    },
    {
      "cell_type": "code",
      "metadata": {
        "id": "6AEcNPjIrbn7",
        "colab_type": "code",
        "colab": {}
      },
      "source": [
        "import requests\n",
        "import pandas as pd\n",
        "import bs4 as bs\n",
        "import urllib.request\n",
        "from bs4 import BeautifulSoup\n",
        "from matplotlib import pyplot as plt\n",
        "from googlesearch import search"
      ],
      "execution_count": 0,
      "outputs": []
    },
    {
      "cell_type": "code",
      "metadata": {
        "colab_type": "code",
        "id": "QgdDwreiFOuF",
        "colab": {}
      },
      "source": [
        "symbol = \"BHARTIARTL\"\n",
        "beta=.80"
      ],
      "execution_count": 0,
      "outputs": []
    },
    {
      "cell_type": "code",
      "metadata": {
        "id": "gFFvFW0EfYc9",
        "colab_type": "code",
        "colab": {}
      },
      "source": [
        "url1a='https://www.screener.in/company/'\n",
        "url1b='/consolidated'\n",
        "url1 =url1a+symbol+url1b\n",
        "url2a='https://www.ndtv.com/business/stock/'\n",
        "url2b='-ltd_'\n",
        "url2c='/holdings'\n",
        "url2 = url2a+symbol+url2b+symbol+url2c"
      ],
      "execution_count": 0,
      "outputs": []
    },
    {
      "cell_type": "code",
      "metadata": {
        "id": "c82m4hAiCHk_",
        "colab_type": "code",
        "colab": {
          "base_uri": "https://localhost:8080/",
          "height": 35
        },
        "outputId": "acd7c0f2-e5dd-48db-d7bd-54d3e9725245"
      },
      "source": [
        "# capex\n",
        "header = {'user-agent': 'Mozilla/5.0 (Macintosh; Intel Mac OS X 10.9; rv:32.0) Gecko/20100101 Firefox/34.0',}\n",
        "req=requests.get(url1, headers=header)\n",
        "soup=BeautifulSoup(req.content, 'lxml')\n",
        "data = soup.find('section', attrs={'id':'cash-flow'})\n",
        "rows = data.find_all('tr')\n",
        "rowyear = data.find_all('thead')\n",
        "res = []\n",
        "for tr in rowyear:\n",
        "    th = tr.find_all('th')\n",
        "    yrow = [tr.text.strip() for tr in th if tr.text.strip()]\n",
        "res.append(['Index']+yrow)\n",
        "for tr in rows:\n",
        "    td = tr.find_all('td')\n",
        "    row = [tr.text.strip() for tr in td if tr.text.strip()]\n",
        "    if row:\n",
        "        res.append(row)\n",
        "df = pd.DataFrame(res)\n",
        "new_header = df.iloc[0] #grab the first row for the header\n",
        "df = df[1:] #take the data less the header row\n",
        "df.columns = new_header #set the header row as the df header\n",
        "soup2=BeautifulSoup(req.content, 'lxml')\n",
        "data2=soup2.find(attrs={\"id\": \"company-info\"})\n",
        "datacomid=data2.get('data-company-id')#flex-row flex-baseline flex-space-between\n",
        "req2=requests.get('https://www.screener.in/api/company/'+datacomid+'/schedules/?parent=Cash+from+Investing+Activity&section=cash-flow&consolidated=', headers=header)\n",
        "import json\n",
        "j = req2.json()\n",
        "import numpy as np\n",
        "df2 = pd.DataFrame.from_dict(j)\n",
        "df2\n",
        "#df2[\"Fixed assets purchased\"]\n",
        "capex=df2[\"Fixed assets purchased\"]+df2[\"Fixed assets sold\"]\n",
        "capex16=int(capex[\"Mar 2016\"].replace(',', ''))/1000\n",
        "capex17=int(capex[\"Mar 2017\"].replace(',', ''))/1000\n",
        "capex18=int(capex[\"Mar 2018\"].replace(',', ''))/1000\n",
        "capex19=int(capex[\"Mar 2019\"].replace(',', ''))/1000\n",
        "capex19"
      ],
      "execution_count": 90,
      "outputs": [
        {
          "output_type": "execute_result",
          "data": {
            "text/plain": [
              "-29478.428"
            ]
          },
          "metadata": {
            "tags": []
          },
          "execution_count": 90
        }
      ]
    },
    {
      "cell_type": "code",
      "metadata": {
        "id": "z_feQk3_A-U7",
        "colab_type": "code",
        "outputId": "db07a607-c393-4d6e-ae60-466515d385bc",
        "colab": {
          "base_uri": "https://localhost:8080/",
          "height": 53
        }
      },
      "source": [
        "# cash \n",
        "month= 'Mar 2019'\n",
        "req4=requests.get('https://www.screener.in/api/company/'+datacomid+'/schedules/?parent=Other+Assets&section=balance-sheet', headers=header)\n",
        "cashjson=req4.json()\n",
        "cashdf= pd.DataFrame.from_dict(cashjson)\n",
        "c=cashdf['Cash Equivalents']\n",
        "cash=c[month]\n",
        "cash=int(cash.replace(',', ''))\n",
        "print(cash)\n",
        "type(cash)"
      ],
      "execution_count": 91,
      "outputs": [
        {
          "output_type": "stream",
          "text": [
            "220\n"
          ],
          "name": "stdout"
        },
        {
          "output_type": "execute_result",
          "data": {
            "text/plain": [
              "str"
            ]
          },
          "metadata": {
            "tags": []
          },
          "execution_count": 91
        }
      ]
    },
    {
      "cell_type": "code",
      "metadata": {
        "id": "i8B_ILEUyDxm",
        "colab_type": "code",
        "outputId": "0aefd61b-289f-4bb5-baa6-978e20f99fcb",
        "colab": {
          "base_uri": "https://localhost:8080/",
          "height": 35
        }
      },
      "source": [
        "r1 = requests.get(url1).content\n",
        "r2 = requests.get(url2).content\n",
        "table2 = pd.read_html(r2)\n",
        "table1 = pd.read_html(r1)\n",
        "tab1 = table1[1]\n",
        "tab2 = table1[6]\n",
        "tab3 = table1[7]\n",
        "tab4 = table2[3]\n",
        "s = int(tab4.loc[21:21,\"Total Number of Shares\"])\n",
        "type(s)"
      ],
      "execution_count": 80,
      "outputs": [
        {
          "output_type": "execute_result",
          "data": {
            "text/plain": [
              "int"
            ]
          },
          "metadata": {
            "tags": []
          },
          "execution_count": 80
        }
      ]
    },
    {
      "cell_type": "code",
      "metadata": {
        "id": "RzZ_SrDtJNi4",
        "colab_type": "code",
        "colab": {}
      },
      "source": [
        "month1='Mar 2019'\n",
        "Int = int(tab1.loc[5:5,month1])\n",
        "brw = int(tab2.loc[2:2,month1])\n",
        "#brw=1\n",
        "ot_liab = int(tab2.loc[3:3,month1])\n",
        "sh_cap = int(tab2.loc[0:0,month1])\n",
        "res = int(tab2.loc[1:1,month1])\n",
        "Tc = .3"
      ],
      "execution_count": 0,
      "outputs": []
    },
    {
      "cell_type": "code",
      "metadata": {
        "id": "BxlC4Jy7z111",
        "colab_type": "code",
        "outputId": "bb2a2fc9-c1ac-4912-f39f-2a7e4f9d691d",
        "colab": {
          "base_uri": "https://localhost:8080/",
          "height": 71
        }
      },
      "source": [
        "#Rates\n",
        "market_RoR = .15\n",
        "risk_free = .064\n",
        "Re = risk_free+beta*(market_RoR-risk_free)\n",
        "Rd = Int/brw\n",
        "E = sh_cap + res\n",
        "#D = brw + ot_liab\n",
        "D = brw\n",
        "A = E+D\n",
        "dis = E/A*Re+(1-Tc)*D/A*Rd\n",
        "f5 = .14\n",
        "s5 = .09\n",
        "tg = .04\n",
        "print(Re)\n",
        "print(Rd)\n",
        "print(dis)"
      ],
      "execution_count": 82,
      "outputs": [
        {
          "output_type": "stream",
          "text": [
            "0.1328\n",
            "0.08780336129093982\n",
            "0.08735832529227144\n"
          ],
          "name": "stdout"
        }
      ]
    },
    {
      "cell_type": "code",
      "metadata": {
        "id": "xzGnvkMvZji3",
        "colab_type": "code",
        "colab": {}
      },
      "source": [
        "# free cash flow calculation = cash flow from operation-CAPEX+interest-tax shield\n",
        "co16 = int(tab3.loc[0:0,\"Mar 2016\"])\n",
        "co17 = int(tab3.loc[0:0,\"Mar 2017\"])\n",
        "co18 = int(tab3.loc[0:0,\"Mar 2018\"])\n",
        "co19 = int(tab3.loc[0:0,\"Mar 2019\"])\n",
        "Int16 = int(tab1.loc[5:5,\"Mar 2016\"])\n",
        "Int17 = int(tab1.loc[5:5,\"Mar 2017\"])\n",
        "Int18 = int(tab1.loc[5:5,\"Mar 2018\"])\n",
        "Int19 = int(tab1.loc[5:5,\"Mar 2019\"])\n",
        "shield16 = Int16*Tc\n",
        "shield17 = Int17*Tc\n",
        "shield18 = Int18*Tc\n",
        "shield19 = Int19*Tc"
      ],
      "execution_count": 0,
      "outputs": []
    },
    {
      "cell_type": "code",
      "metadata": {
        "id": "rGWQy-KwjAIk",
        "colab_type": "code",
        "colab": {}
      },
      "source": [
        "fcf16 = co16+capex16+Int16-shield16\n",
        "fcf17 = co17+capex17+Int17-shield17\n",
        "fcf18 = co18+capex18+Int18-shield18\n",
        "fcf19 = co19+capex19+Int19-shield19\n",
        "FCF = (fcf16+fcf17+fcf18+fcf19)/4"
      ],
      "execution_count": 0,
      "outputs": []
    },
    {
      "cell_type": "code",
      "metadata": {
        "id": "niKWRDF0pf0J",
        "colab_type": "code",
        "colab": {}
      },
      "source": [
        "# cash flow for first 5 yr\n",
        "one = FCF+(FCF*f5)\n",
        "two = one+(one*f5)\n",
        "three = two+(two*f5)\n",
        "four = three+(three*f5)\n",
        "five = four+(four*f5)\n",
        "# cash flow for next 5 yr\n",
        "six = five+(five*s5)\n",
        "seven = six+(six*s5)\n",
        "eight = seven+(seven*s5)\n",
        "nine = eight+(eight*s5)\n",
        "ten = nine+(nine*s5)\n",
        "# terminal value\n",
        "t1 = ten+(ten*tg)\n",
        "t2 = (dis-tg)\n",
        "t = t1/t2"
      ],
      "execution_count": 0,
      "outputs": []
    },
    {
      "cell_type": "code",
      "metadata": {
        "id": "fiYsPIgVnFA1",
        "colab_type": "code",
        "outputId": "c33e1e2b-17aa-4f79-d9aa-1d4bdd1528d1",
        "colab": {
          "base_uri": "https://localhost:8080/",
          "height": 35
        }
      },
      "source": [
        "#present value of 10yrs\n",
        "p1 = one/(1+dis)**1\n",
        "p2 = two/(1+dis)**2\n",
        "p3 = three/(1+dis)**3\n",
        "p4 = four/(1+dis)**4\n",
        "p5 = five/(1+dis)**5\n",
        "p6 = six/(1+dis)**6\n",
        "p7 = seven/(1+dis)**7\n",
        "p8 = eight/(1+dis)**8\n",
        "p9 = nine/(1+dis)**9\n",
        "p10 = ten/(1+dis)**10\n",
        "pt = t/(1+dis)**10\n",
        "PV = p1+p2+p3+p4+p5+p6+p7+p8+p9+p10+pt\n",
        "type(cash)"
      ],
      "execution_count": 86,
      "outputs": [
        {
          "output_type": "execute_result",
          "data": {
            "text/plain": [
              "int"
            ]
          },
          "metadata": {
            "tags": []
          },
          "execution_count": 86
        }
      ]
    },
    {
      "cell_type": "code",
      "metadata": {
        "id": "6zC_KwHJz7Jx",
        "colab_type": "code",
        "colab": {}
      },
      "source": [
        "# Net DEBT\n",
        "net_debt=brw-cash"
      ],
      "execution_count": 0,
      "outputs": []
    },
    {
      "cell_type": "code",
      "metadata": {
        "id": "GKTuV1300iba",
        "colab_type": "code",
        "outputId": "823bc33f-4252-4507-de22-ced2d960204c",
        "colab": {
          "base_uri": "https://localhost:8080/",
          "height": 35
        }
      },
      "source": [
        "numerator=PV-net_debt\n",
        "share_price=(numerator*10000000)/s\n",
        "print(share_price)\n"
      ],
      "execution_count": 88,
      "outputs": [
        {
          "output_type": "stream",
          "text": [
            "-14374.372686117573\n"
          ],
          "name": "stdout"
        }
      ]
    }
  ]
}