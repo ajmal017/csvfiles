{
  "nbformat": 4,
  "nbformat_minor": 0,
  "metadata": {
    "colab": {
      "name": "Automation.ipynb",
      "provenance": [],
      "collapsed_sections": [],
      "authorship_tag": "ABX9TyP8zz8QnArK9yduRQacomxd",
      "include_colab_link": true
    },
    "kernelspec": {
      "name": "python3",
      "display_name": "Python 3"
    }
  },
  "cells": [
    {
      "cell_type": "markdown",
      "metadata": {
        "id": "view-in-github",
        "colab_type": "text"
      },
      "source": [
        "<a href=\"https://colab.research.google.com/github/animalran/csvfiles/blob/master/Automation.ipynb\" target=\"_parent\"><img src=\"https://colab.research.google.com/assets/colab-badge.svg\" alt=\"Open In Colab\"/></a>"
      ]
    },
    {
      "cell_type": "code",
      "metadata": {
        "id": "SeIunUJMlvIn",
        "colab_type": "code",
        "colab": {
          "base_uri": "https://localhost:8080/",
          "height": 685
        },
        "outputId": "3f744522-3ee4-4a5d-8eb2-f2768bae0347"
      },
      "source": [
        "#\n",
        "!pip install kiteconnect\n",
        "!pip install yfinance"
      ],
      "execution_count": 3,
      "outputs": [
        {
          "output_type": "stream",
          "text": [
            "Requirement already satisfied: kiteconnect in /usr/local/lib/python3.6/dist-packages (3.8.2)\n",
            "Requirement already satisfied: requests>=2.18.4 in /usr/local/lib/python3.6/dist-packages (from kiteconnect) (2.23.0)\n",
            "Requirement already satisfied: six>=1.11.0 in /usr/local/lib/python3.6/dist-packages (from kiteconnect) (1.12.0)\n",
            "Requirement already satisfied: pyOpenSSL>=17.5.0 in /usr/local/lib/python3.6/dist-packages (from kiteconnect) (19.1.0)\n",
            "Requirement already satisfied: enum34>=1.1.6 in /usr/local/lib/python3.6/dist-packages (from kiteconnect) (1.1.10)\n",
            "Requirement already satisfied: python-dateutil>=2.6.1 in /usr/local/lib/python3.6/dist-packages (from kiteconnect) (2.8.1)\n",
            "Requirement already satisfied: autobahn[twisted]>=17.10.1 in /usr/local/lib/python3.6/dist-packages (from kiteconnect) (20.6.2)\n",
            "Requirement already satisfied: certifi>=2017.4.17 in /usr/local/lib/python3.6/dist-packages (from requests>=2.18.4->kiteconnect) (2020.6.20)\n",
            "Requirement already satisfied: idna<3,>=2.5 in /usr/local/lib/python3.6/dist-packages (from requests>=2.18.4->kiteconnect) (2.10)\n",
            "Requirement already satisfied: urllib3!=1.25.0,!=1.25.1,<1.26,>=1.21.1 in /usr/local/lib/python3.6/dist-packages (from requests>=2.18.4->kiteconnect) (1.24.3)\n",
            "Requirement already satisfied: chardet<4,>=3.0.2 in /usr/local/lib/python3.6/dist-packages (from requests>=2.18.4->kiteconnect) (3.0.4)\n",
            "Requirement already satisfied: cryptography>=2.8 in /usr/local/lib/python3.6/dist-packages (from pyOpenSSL>=17.5.0->kiteconnect) (2.9.2)\n",
            "Requirement already satisfied: txaio>=20.3.1 in /usr/local/lib/python3.6/dist-packages (from autobahn[twisted]>=17.10.1->kiteconnect) (20.4.1)\n",
            "Requirement already satisfied: zope.interface>=3.6.0; extra == \"twisted\" in /usr/local/lib/python3.6/dist-packages (from autobahn[twisted]>=17.10.1->kiteconnect) (5.1.0)\n",
            "Requirement already satisfied: attrs>=19.2.0; extra == \"twisted\" in /usr/local/lib/python3.6/dist-packages (from autobahn[twisted]>=17.10.1->kiteconnect) (19.3.0)\n",
            "Requirement already satisfied: twisted>=20.3.0; extra == \"twisted\" in /usr/local/lib/python3.6/dist-packages (from autobahn[twisted]>=17.10.1->kiteconnect) (20.3.0)\n",
            "Requirement already satisfied: cffi!=1.11.3,>=1.8 in /usr/local/lib/python3.6/dist-packages (from cryptography>=2.8->pyOpenSSL>=17.5.0->kiteconnect) (1.14.0)\n",
            "Requirement already satisfied: setuptools in /usr/local/lib/python3.6/dist-packages (from zope.interface>=3.6.0; extra == \"twisted\"->autobahn[twisted]>=17.10.1->kiteconnect) (49.1.0)\n",
            "Requirement already satisfied: PyHamcrest!=1.10.0,>=1.9.0 in /usr/local/lib/python3.6/dist-packages (from twisted>=20.3.0; extra == \"twisted\"->autobahn[twisted]>=17.10.1->kiteconnect) (2.0.2)\n",
            "Requirement already satisfied: hyperlink>=17.1.1 in /usr/local/lib/python3.6/dist-packages (from twisted>=20.3.0; extra == \"twisted\"->autobahn[twisted]>=17.10.1->kiteconnect) (19.0.0)\n",
            "Requirement already satisfied: Automat>=0.3.0 in /usr/local/lib/python3.6/dist-packages (from twisted>=20.3.0; extra == \"twisted\"->autobahn[twisted]>=17.10.1->kiteconnect) (20.2.0)\n",
            "Requirement already satisfied: constantly>=15.1 in /usr/local/lib/python3.6/dist-packages (from twisted>=20.3.0; extra == \"twisted\"->autobahn[twisted]>=17.10.1->kiteconnect) (15.1.0)\n",
            "Requirement already satisfied: incremental>=16.10.1 in /usr/local/lib/python3.6/dist-packages (from twisted>=20.3.0; extra == \"twisted\"->autobahn[twisted]>=17.10.1->kiteconnect) (17.5.0)\n",
            "Requirement already satisfied: pycparser in /usr/local/lib/python3.6/dist-packages (from cffi!=1.11.3,>=1.8->cryptography>=2.8->pyOpenSSL>=17.5.0->kiteconnect) (2.20)\n",
            "Requirement already satisfied: yfinance in /usr/local/lib/python3.6/dist-packages (0.1.54)\n",
            "Requirement already satisfied: pandas>=0.24 in /usr/local/lib/python3.6/dist-packages (from yfinance) (1.0.5)\n",
            "Requirement already satisfied: numpy>=1.15 in /usr/local/lib/python3.6/dist-packages (from yfinance) (1.18.5)\n",
            "Requirement already satisfied: multitasking>=0.0.7 in /usr/local/lib/python3.6/dist-packages (from yfinance) (0.0.9)\n",
            "Requirement already satisfied: requests>=2.20 in /usr/local/lib/python3.6/dist-packages (from yfinance) (2.23.0)\n",
            "Requirement already satisfied: pytz>=2017.2 in /usr/local/lib/python3.6/dist-packages (from pandas>=0.24->yfinance) (2018.9)\n",
            "Requirement already satisfied: python-dateutil>=2.6.1 in /usr/local/lib/python3.6/dist-packages (from pandas>=0.24->yfinance) (2.8.1)\n",
            "Requirement already satisfied: idna<3,>=2.5 in /usr/local/lib/python3.6/dist-packages (from requests>=2.20->yfinance) (2.10)\n",
            "Requirement already satisfied: urllib3!=1.25.0,!=1.25.1,<1.26,>=1.21.1 in /usr/local/lib/python3.6/dist-packages (from requests>=2.20->yfinance) (1.24.3)\n",
            "Requirement already satisfied: chardet<4,>=3.0.2 in /usr/local/lib/python3.6/dist-packages (from requests>=2.20->yfinance) (3.0.4)\n",
            "Requirement already satisfied: certifi>=2017.4.17 in /usr/local/lib/python3.6/dist-packages (from requests>=2.20->yfinance) (2020.6.20)\n",
            "Requirement already satisfied: six>=1.5 in /usr/local/lib/python3.6/dist-packages (from python-dateutil>=2.6.1->pandas>=0.24->yfinance) (1.12.0)\n"
          ],
          "name": "stdout"
        }
      ]
    },
    {
      "cell_type": "code",
      "metadata": {
        "id": "ldr2LwHbjyxx",
        "colab_type": "code",
        "colab": {
          "base_uri": "https://localhost:8080/",
          "height": 251
        },
        "outputId": "51785ef2-1af6-4077-ce99-c2c3901ef458"
      },
      "source": [
        "!wget https://launchpad.net/~mario-mariomedina/+archive/ubuntu/talib/+files/libta-lib0_0.4.0-oneiric1_amd64.deb -qO libta.deb\n",
        "!wget https://launchpad.net/~mario-mariomedina/+archive/ubuntu/talib/+files/ta-lib0-dev_0.4.0-oneiric1_amd64.deb -qO ta.deb\n",
        "!dpkg -i libta.deb ta.deb\n",
        "!pip install ta-lib"
      ],
      "execution_count": 4,
      "outputs": [
        {
          "output_type": "stream",
          "text": [
            "(Reading database ... \r(Reading database ... 5%\r(Reading database ... 10%\r(Reading database ... 15%\r(Reading database ... 20%\r(Reading database ... 25%\r(Reading database ... 30%\r(Reading database ... 35%\r(Reading database ... 40%\r(Reading database ... 45%\r(Reading database ... 50%\r(Reading database ... 55%\r(Reading database ... 60%\r(Reading database ... 65%\r(Reading database ... 70%\r(Reading database ... 75%\r(Reading database ... 80%\r(Reading database ... 85%\r(Reading database ... 90%\r(Reading database ... 95%\r(Reading database ... 100%\r(Reading database ... 144491 files and directories currently installed.)\n",
            "Preparing to unpack libta.deb ...\n",
            "Unpacking libta-lib0 (0.4.0-oneiric1) over (0.4.0-oneiric1) ...\n",
            "Preparing to unpack ta.deb ...\n",
            "Unpacking ta-lib0-dev (0.4.0-oneiric1) over (0.4.0-oneiric1) ...\n",
            "Setting up libta-lib0 (0.4.0-oneiric1) ...\n",
            "Setting up ta-lib0-dev (0.4.0-oneiric1) ...\n",
            "Processing triggers for man-db (2.8.3-2ubuntu0.1) ...\n",
            "Processing triggers for libc-bin (2.27-3ubuntu1) ...\n",
            "/sbin/ldconfig.real: /usr/local/lib/python3.6/dist-packages/ideep4py/lib/libmkldnn.so.0 is not a symbolic link\n",
            "\n",
            "Requirement already satisfied: ta-lib in /usr/local/lib/python3.6/dist-packages (0.4.18)\n",
            "Requirement already satisfied: numpy in /usr/local/lib/python3.6/dist-packages (from ta-lib) (1.18.5)\n"
          ],
          "name": "stdout"
        }
      ]
    },
    {
      "cell_type": "code",
      "metadata": {
        "id": "E_M6uIJYmOQG",
        "colab_type": "code",
        "colab": {}
      },
      "source": [
        "#\n",
        "from kiteconnect import KiteConnect\n",
        "import yfinance as yf\n",
        "import requests\n",
        "import pandas as pd\n",
        "import time\n",
        "from kiteconnect import KiteTicker\n",
        "import talib as ta\n",
        "from talib import MA_Type\n",
        "from talib import abstract\n",
        "from talib.abstract import *\n",
        "import pdb\n",
        "#print(dir(KiteConnect))"
      ],
      "execution_count": 5,
      "outputs": []
    },
    {
      "cell_type": "code",
      "metadata": {
        "id": "rkZzbFcOmRmu",
        "colab_type": "code",
        "colab": {}
      },
      "source": [
        "#\n",
        "kws=\"\"\n",
        "kite=\"\"\n",
        "api_k = \"xrx73105w50h5g25\"\n",
        "api_s  = \"4zk0dp6i1p03ji4haxrw44buh9hn5v27\"\n",
        "access_token=\"MvBJ8abILH5o0rW67JML8YMhxGl8GnHX\"\n",
        "# request token url\n",
        "#url= \" https://kite.trade/connect/login?api_key=xrx73105w50h5g25\"\n",
        "#request_token=\"W7usb7S30W2X3X04vvS1I9kTATXrCr3O\"\n",
        "\n",
        "kite = KiteConnect(api_key=api_k)\n",
        "kite.set_access_token(access_token)\n",
        "\n",
        "#data = kite.generate_session(request_token,api_secret=api_secret)\n",
        "#print(data)"
      ],
      "execution_count": 7,
      "outputs": []
    },
    {
      "cell_type": "code",
      "metadata": {
        "id": "MxxBee_odHgA",
        "colab_type": "code",
        "colab": {}
      },
      "source": [
        "def get_login(api_k,api_s):\n",
        "    global kws,kite\n",
        "    kite=KiteConnect(api_key=api_k)\n",
        "    kite.set_access_token(access_token)\n",
        "    kws = KiteTicker(api_k,access_token)\n",
        "get_login(api_k,api_s)"
      ],
      "execution_count": 8,
      "outputs": []
    },
    {
      "cell_type": "code",
      "metadata": {
        "id": "Z71Rrt2_mhcf",
        "colab_type": "code",
        "colab": {}
      },
      "source": [
        "# genetaring sma using talib and kiteticker\n",
        "trd_portfolio    =  {260105:{\"name\":\"NIFTY BANK\"}}\n",
        "ticks_storage   = pd.DataFrame()\n",
        "timeframe   =   1"
      ],
      "execution_count": 9,
      "outputs": []
    },
    {
      "cell_type": "code",
      "metadata": {
        "id": "WXAdBwD5fWcp",
        "colab_type": "code",
        "colab": {
          "base_uri": "https://localhost:8080/",
          "height": 269
        },
        "outputId": "7fda1f9e-ab39-4aea-d0a9-9e413f1c8e1d"
      },
      "source": [
        "def ohlc_maker(ticks):\n",
        "    for token in trd_portfolio:\n",
        "        specs   = trd_portfolio[token]\n",
        "        name    = specs['name']\n",
        "        for single_company in ticks:\n",
        "            if single_company['instrument_token'] == token:\n",
        "\n",
        "                if 'temp' not in specs.key():\n",
        "                    specs['temp']={}\n",
        "                    continue\n",
        "\n",
        "                temp= specs['temp']\n",
        "\n",
        "                temp[single_company['timestamp']]= single_company['last_price']\n",
        "                df  = pd.DataFrame.from_dict(temp, orient='index')\n",
        "\n",
        "                ohlc= df[0].resample(str(timeframe)+'Min').ohlc()\n",
        "\n",
        "                print(\"\\n\",name)\n",
        "                print(ohlc)\n",
        "def on_ticks(ws,ticks):\n",
        "    ohlc_maker(ticks)\n",
        "\n",
        "subscribe = [x for x in trd_portfolio]\n",
        "\n",
        "def on_connect(ws,response):\n",
        "    ws.subscribe(subscribe)\n",
        "    ws.set_mode(ws.MODE_FULL,subscribe)\n",
        "\n",
        "kws.on_ticks=on_ticks\n",
        "kws.on_connect= on_connect\n",
        "kws.connect(threaded=True)"
      ],
      "execution_count": 14,
      "outputs": [
        {
          "output_type": "stream",
          "text": [
            "Exception in thread Thread-4:\n",
            "Traceback (most recent call last):\n",
            "  File \"/usr/lib/python3.6/threading.py\", line 916, in _bootstrap_inner\n",
            "    self.run()\n",
            "  File \"/usr/lib/python3.6/threading.py\", line 864, in run\n",
            "    self._target(*self._args, **self._kwargs)\n",
            "  File \"/usr/local/lib/python3.6/dist-packages/twisted/internet/base.py\", line 1282, in run\n",
            "    self.startRunning(installSignalHandlers=installSignalHandlers)\n",
            "  File \"/usr/local/lib/python3.6/dist-packages/twisted/internet/base.py\", line 1262, in startRunning\n",
            "    ReactorBase.startRunning(self)\n",
            "  File \"/usr/local/lib/python3.6/dist-packages/twisted/internet/base.py\", line 765, in startRunning\n",
            "    raise error.ReactorNotRestartable()\n",
            "twisted.internet.error.ReactorNotRestartable\n",
            "\n"
          ],
          "name": "stderr"
        }
      ]
    },
    {
      "cell_type": "code",
      "metadata": {
        "id": "h7CL8KQ1g_5E",
        "colab_type": "code",
        "colab": {}
      },
      "source": [
        ""
      ],
      "execution_count": null,
      "outputs": []
    }
  ]
}