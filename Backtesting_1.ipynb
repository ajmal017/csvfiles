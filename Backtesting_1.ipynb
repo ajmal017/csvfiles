{
  "nbformat": 4,
  "nbformat_minor": 0,
  "metadata": {
    "colab": {
      "name": "Backtesting_1.ipynb",
      "provenance": [],
      "collapsed_sections": [],
      "authorship_tag": "ABX9TyOC/TZWPi9548MmOJv0Arf2",
      "include_colab_link": true
    },
    "kernelspec": {
      "name": "python3",
      "display_name": "Python 3"
    }
  },
  "cells": [
    {
      "cell_type": "markdown",
      "metadata": {
        "id": "view-in-github",
        "colab_type": "text"
      },
      "source": [
        "<a href=\"https://colab.research.google.com/github/animalran/csvfiles/blob/master/Backtesting_1.ipynb\" target=\"_parent\"><img src=\"https://colab.research.google.com/assets/colab-badge.svg\" alt=\"Open In Colab\"/></a>"
      ]
    },
    {
      "cell_type": "code",
      "metadata": {
        "id": "p69DQn1sIMTT",
        "colab_type": "code",
        "colab": {
          "base_uri": "https://localhost:8080/",
          "height": 289
        },
        "outputId": "d985c10c-465b-4ac4-b1ae-a128d966f930"
      },
      "source": [
        "!pip install backtesting"
      ],
      "execution_count": 62,
      "outputs": [
        {
          "output_type": "stream",
          "text": [
            "Requirement already satisfied: backtesting in /usr/local/lib/python3.6/dist-packages (0.1.7)\n",
            "Requirement already satisfied: bokeh>=1.4.0 in /usr/local/lib/python3.6/dist-packages (from backtesting) (1.4.0)\n",
            "Requirement already satisfied: numpy in /usr/local/lib/python3.6/dist-packages (from backtesting) (1.18.5)\n",
            "Requirement already satisfied: pandas!=0.25.0,>=0.25.0 in /usr/local/lib/python3.6/dist-packages (from backtesting) (1.0.5)\n",
            "Requirement already satisfied: Jinja2>=2.7 in /usr/local/lib/python3.6/dist-packages (from bokeh>=1.4.0->backtesting) (2.11.2)\n",
            "Requirement already satisfied: tornado>=4.3 in /usr/local/lib/python3.6/dist-packages (from bokeh>=1.4.0->backtesting) (4.5.3)\n",
            "Requirement already satisfied: six>=1.5.2 in /usr/local/lib/python3.6/dist-packages (from bokeh>=1.4.0->backtesting) (1.12.0)\n",
            "Requirement already satisfied: packaging>=16.8 in /usr/local/lib/python3.6/dist-packages (from bokeh>=1.4.0->backtesting) (20.4)\n",
            "Requirement already satisfied: PyYAML>=3.10 in /usr/local/lib/python3.6/dist-packages (from bokeh>=1.4.0->backtesting) (3.13)\n",
            "Requirement already satisfied: python-dateutil>=2.1 in /usr/local/lib/python3.6/dist-packages (from bokeh>=1.4.0->backtesting) (2.8.1)\n",
            "Requirement already satisfied: pillow>=4.0 in /usr/local/lib/python3.6/dist-packages (from bokeh>=1.4.0->backtesting) (7.0.0)\n",
            "Requirement already satisfied: pytz>=2017.2 in /usr/local/lib/python3.6/dist-packages (from pandas!=0.25.0,>=0.25.0->backtesting) (2018.9)\n",
            "Requirement already satisfied: MarkupSafe>=0.23 in /usr/local/lib/python3.6/dist-packages (from Jinja2>=2.7->bokeh>=1.4.0->backtesting) (1.1.1)\n",
            "Requirement already satisfied: pyparsing>=2.0.2 in /usr/local/lib/python3.6/dist-packages (from packaging>=16.8->bokeh>=1.4.0->backtesting) (2.4.7)\n"
          ],
          "name": "stdout"
        }
      ]
    },
    {
      "cell_type": "code",
      "metadata": {
        "id": "6lMslgxFf7Fi",
        "colab_type": "code",
        "colab": {}
      },
      "source": [
        "!wget https://launchpad.net/~mario-mariomedina/+archive/ubuntu/talib/+files/libta-lib0_0.4.0-oneiric1_amd64.deb -qO libta.deb\n",
        "!wget https://launchpad.net/~mario-mariomedina/+archive/ubuntu/talib/+files/ta-lib0-dev_0.4.0-oneiric1_amd64.deb -qO ta.deb\n",
        "!dpkg -i libta.deb ta.deb\n",
        "!pip install ta-lib\n",
        "!pip install yfinance\n",
        "import talib\n",
        "import yfinance as yf\n",
        "import numpy as np\n",
        "import talib as ta\n",
        "import matplotlib.pyplot as plt\n",
        "from talib import MA_Type"
      ],
      "execution_count": null,
      "outputs": []
    },
    {
      "cell_type": "code",
      "metadata": {
        "id": "IQbpppfTJHc9",
        "colab_type": "code",
        "colab": {}
      },
      "source": [
        "from backtesting import Backtest, Strategy\n",
        "from backtesting.lib import crossover\n",
        "import pandas as pd\n",
        "#from backtesting.test import SMA\n",
        "from backtesting import Strategy\n",
        "from backtesting.lib import crossover\n",
        "import yfinance as yf\n",
        "from talib import abstract\n",
        "from talib.abstract import *"
      ],
      "execution_count": 64,
      "outputs": []
    },
    {
      "cell_type": "code",
      "metadata": {
        "id": "oOr4ja98LsN5",
        "colab_type": "code",
        "colab": {}
      },
      "source": [
        "ti=yf.Ticker(\"TCS.NS\")\n",
        "hist=ti.history(period=\"max\")\n",
        "hist=hist[[\"Open\",\"High\",\"Close\",\"Low\",\"Volume\"]]\n",
        "close=hist[\"Close\"]"
      ],
      "execution_count": 65,
      "outputs": []
    },
    {
      "cell_type": "code",
      "metadata": {
        "id": "ZEeRIXlyKm5Y",
        "colab_type": "code",
        "colab": {}
      },
      "source": [
        "class SmaCross(Strategy):\n",
        "    \n",
        "    # Define the two MA lags as *class variables*\n",
        "    # for later optimization\n",
        "    n1 = 10\n",
        "    n2 = 50\n",
        "    \n",
        "    def init(self):\n",
        "        # Precompute two moving averages\n",
        "        self.sma1 = self.I(ta.SMA, self.data.Close, self.n1)\n",
        "        self.sma2 = self.I(ta.SMA, self.data.Close, self.n2)\n",
        "    \n",
        "    def next(self):\n",
        "        # If sma1 crosses above sma2, buy the asset\n",
        "        if crossover(self.sma1, self.sma2):\n",
        "            self.buy()\n",
        "\n",
        "        # Else, if sma1 crosses below sma2, sell it\n",
        "        elif crossover(self.sma2, self.sma1):\n",
        "            self.sell()"
      ],
      "execution_count": 71,
      "outputs": []
    },
    {
      "cell_type": "code",
      "metadata": {
        "id": "ERxmt62uKtX7",
        "colab_type": "code",
        "colab": {}
      },
      "source": [
        "bt = Backtest(hist, SmaCross, cash=10000, commission=.002)\n",
        "bt.run()"
      ],
      "execution_count": null,
      "outputs": []
    },
    {
      "cell_type": "code",
      "metadata": {
        "id": "rvYA4YviLQPX",
        "colab_type": "code",
        "colab": {}
      },
      "source": [
        "bt.plot()"
      ],
      "execution_count": null,
      "outputs": []
    },
    {
      "cell_type": "code",
      "metadata": {
        "id": "8ah0Hwuuhq8Z",
        "colab_type": "code",
        "colab": {}
      },
      "source": [
        "from talib import abstract\n",
        "from talib.abstract import *\n",
        "out = SMA(close, timeperiod=25) # calculate on close prices by default\n",
        "print(out)\n",
        "type(out)"
      ],
      "execution_count": null,
      "outputs": []
    }
  ]
}