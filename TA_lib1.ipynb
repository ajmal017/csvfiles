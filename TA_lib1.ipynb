{
  "nbformat": 4,
  "nbformat_minor": 0,
  "metadata": {
    "colab": {
      "name": "TA-lib1",
      "provenance": [],
      "collapsed_sections": [],
      "authorship_tag": "ABX9TyPefGOYt/xclZP0CYSlzVqu",
      "include_colab_link": true
    },
    "kernelspec": {
      "name": "python3",
      "display_name": "Python 3"
    }
  },
  "cells": [
    {
      "cell_type": "markdown",
      "metadata": {
        "id": "view-in-github",
        "colab_type": "text"
      },
      "source": [
        "<a href=\"https://colab.research.google.com/github/animalran/csvfiles/blob/master/TA_lib1.ipynb\" target=\"_parent\"><img src=\"https://colab.research.google.com/assets/colab-badge.svg\" alt=\"Open In Colab\"/></a>"
      ]
    },
    {
      "cell_type": "code",
      "metadata": {
        "id": "jkafKINi2Mr0",
        "colab_type": "code",
        "colab": {}
      },
      "source": [
        "!wget https://launchpad.net/~mario-mariomedina/+archive/ubuntu/talib/+files/libta-lib0_0.4.0-oneiric1_amd64.deb -qO libta.deb\n",
        "!wget https://launchpad.net/~mario-mariomedina/+archive/ubuntu/talib/+files/ta-lib0-dev_0.4.0-oneiric1_amd64.deb -qO ta.deb\n",
        "!dpkg -i libta.deb ta.deb\n",
        "!pip install ta-lib\n",
        "!pip install yfinance\n",
        "import talib\n",
        "import yfinance as yf\n",
        "import numpy as np\n",
        "import talib as ta\n",
        "import matplotlib.pyplot as plt\n",
        "from talib import MA_Type"
      ],
      "execution_count": 0,
      "outputs": []
    },
    {
      "cell_type": "code",
      "metadata": {
        "id": "0t23f1nA2kNY",
        "colab_type": "code",
        "colab": {}
      },
      "source": [
        "sbi=yf.Ticker(\"SBIN.NS\")"
      ],
      "execution_count": 0,
      "outputs": []
    },
    {
      "cell_type": "code",
      "metadata": {
        "id": "311xLJF03af7",
        "colab_type": "code",
        "colab": {}
      },
      "source": [
        "hist = sbi.history(period=\"50d\")\n",
        "close=hist[\"Close\"]\n",
        "open=hist[\"Open\"]\n",
        "high=hist[\"High\"]\n",
        "low=hist[\"Low\"]\n",
        "volume=hist[\"Volume\"]\n",
        "#Calculate a simple moving average of the close prices:\n",
        "out=ta.SMA(close)\n",
        "#Calculating bollinger bands, with triple exponential moving average:\n",
        "upper, middle, lower = talib.BBANDS(close, matype=MA_Type.T3)\n",
        "#Calculating momentum of the close prices, with a time period of 5:\n",
        "out1 = talib.MOM(close, timeperiod=5)\n"
      ],
      "execution_count": 0,
      "outputs": []
    },
    {
      "cell_type": "code",
      "metadata": {
        "id": "Yzljx0f26p0g",
        "colab_type": "code",
        "colab": {}
      },
      "source": [
        "from talib import abstract\n",
        "sma = abstract.SMA\n",
        "sma = abstract.Function('sma')"
      ],
      "execution_count": 0,
      "outputs": []
    },
    {
      "cell_type": "code",
      "metadata": {
        "id": "03kbddTL86kZ",
        "colab_type": "code",
        "colab": {}
      },
      "source": [
        "inputs = {\n",
        "    'open': open,\n",
        "    'high': high,\n",
        "    'low': low,\n",
        "    'close': close,\n",
        "    'volume': volume\n",
        "}"
      ],
      "execution_count": 0,
      "outputs": []
    },
    {
      "cell_type": "code",
      "metadata": {
        "id": "_hnRXLtn63pE",
        "colab_type": "code",
        "colab": {}
      },
      "source": [
        "from talib.abstract import *\n",
        "out2 = SMA(close, timeperiod=25) # calculate on close prices by default\n",
        "print(out)\n",
        "out2\n",
        "#upper, middle, lower = BBANDS(inputs, 20, 2, 2)\n",
        "slowk, slowd = STOCH(inputs, 5, 3, 0, 3, 0) # uses high, low, close by default\n",
        "slowk, slowd = STOCH(inputs, 5, 3, 0, 3, 0, prices=['high', 'low', 'open'])"
      ],
      "execution_count": 0,
      "outputs": []
    },
    {
      "cell_type": "code",
      "metadata": {
        "id": "MPYMWIlRGEBy",
        "colab_type": "code",
        "colab": {}
      },
      "source": [
        "real1 = RSI(close, timeperiod=14)\n",
        "real = ADX(high, low, close, timeperiod=14)\n",
        "#MACD - Moving Average Convergence/Divergence\n",
        "macd, macdsignal, macdhist = MACD(close, fastperiod=12, slowperiod=26, signalperiod=9)\n",
        "#MACDEXT - MACD with controllable MA type\n",
        "macd, macdsignal, macdhist = MACDEXT(close, fastperiod=12, fastmatype=0, slowperiod=26, slowmatype=0, signalperiod=9, signalmatype=0)\n",
        "#MACDFIX - Moving Average Convergence/Divergence Fix 12/26\n",
        "macd, macdsignal, macdhist = MACDFIX(close, signalperiod=9)\n",
        "slowk, slowd = STOCH(high, low, close, fastk_period=5, slowk_period=3, slowk_matype=0, slowd_period=3, slowd_matype=0)\n",
        "#type(real1)\n",
        "#len(real1)\n",
        "#q=[real1[i-1] for i in range(len(real1)// 2)]\n",
        "import pandas as pd\n",
        "#x=pd.DataFrame(real1)\n",
        "#type(x)\n",
        "#cc=x.loc[49:]\n",
        "#x\n",
        "last = real1.take(-1)\n",
        "last\n",
        "if (last<50):\n",
        "    print(\"buy\")"
      ],
      "execution_count": 0,
      "outputs": []
    }
  ]
}