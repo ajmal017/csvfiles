{
  "nbformat": 4,
  "nbformat_minor": 0,
  "metadata": {
    "colab": {
      "name": "Technical1.ipynb",
      "provenance": [],
      "collapsed_sections": [],
      "authorship_tag": "ABX9TyOdLnPREnlx8ZM+mJXvnJJO",
      "include_colab_link": true
    },
    "kernelspec": {
      "name": "python3",
      "display_name": "Python 3"
    }
  },
  "cells": [
    {
      "cell_type": "markdown",
      "metadata": {
        "id": "view-in-github",
        "colab_type": "text"
      },
      "source": [
        "<a href=\"https://colab.research.google.com/github/animalran/csvfiles/blob/master/Technical1.ipynb\" target=\"_parent\"><img src=\"https://colab.research.google.com/assets/colab-badge.svg\" alt=\"Open In Colab\"/></a>"
      ]
    },
    {
      "cell_type": "code",
      "metadata": {
        "id": "hmlRJ4T57aIn",
        "colab_type": "code",
        "colab": {}
      },
      "source": [
        "import requests\n",
        "import pandas as pd\n",
        "!pip install yfinance\n",
        "!wget https://launchpad.net/~mario-mariomedina/+archive/ubuntu/talib/+files/libta-lib0_0.4.0-oneiric1_amd64.deb -qO libta.deb\n",
        "!wget https://launchpad.net/~mario-mariomedina/+archive/ubuntu/talib/+files/ta-lib0-dev_0.4.0-oneiric1_amd64.deb -qO ta.deb\n",
        "!dpkg -i libta.deb ta.deb\n",
        "!pip install ta-lib\n",
        "\n",
        "import talib\n",
        "import yfinance as yf\n",
        "import numpy as np\n",
        "import talib as ta\n",
        "import matplotlib.pyplot as plt\n",
        "from talib import MA_Type\n",
        "from talib import abstract\n",
        "from talib.abstract import *\n"
      ],
      "execution_count": 0,
      "outputs": []
    },
    {
      "cell_type": "code",
      "metadata": {
        "id": "8E7QdWSW-mxw",
        "colab_type": "code",
        "colab": {}
      },
      "source": [
        "stock1=[\"SBIN.NS\",\"HDFCBANK.NS\",\"HDFC.NS\",\"RBLBANK.NS\",\"BANDHANBNK.NS\",\"ICICIBANK.NS\",\"FEDERALBNK.NS\",\"INDUSINDBK.NS\",\"AXISBANK.NS\",\"PNB.NS\",\"KOTAKBANK.NS\",\"BANKBARODA.NS\"]\n",
        "stock2=[\"JUBLFOOD.NS\",\"TATACONSUM.NS\",\"MARICO.NS\",\"PGHH.NS\",\"DABUR.NS\",\"MCDOWELL-N.NS\",\"BRITANNIA.NS\",\"COLPAL.NS\",\"NESTLEIND.NS\",\"UBL.NS\",\"GODREJCP.NS\",\"HINDUNILVR.NS\",\"GODREJIND.NS\",\"EMAMILTD.NS\",\"ITC.NS\"]\n",
        "stock3=[\"GAIL.NS\",\"NTPC.NS\",\"POWERGRID.NS\",\"ONGC.NS\",\"RELIANCE.NS\",\"ADANITRANS.NS\",\"BPCL.NS\",\"IOC.NS\",\"TATAPOWER.NS\",\"HINDPETRO.NS\"]\n",
        "stock4=[\"TATAMOTORS.NS\",\"M&M.NS\",\"TVSMOTOR.NS\",\"MOTHERSUMI.NS\",\"HEROMOTOCO.NS\",\"BAJAJ-AUTO.NS\",\"APOLLOTYRE.NS\",\"BHARATFORG.NS\",\"MRF.NS\",\"EICHERMOT.NS\",\"EXIDEIND.NS\",\"MARUTI.NS\",\"AMARAJABAT.NS\",\"BOSCHLTD.NS\",\"ASHOKLEY.NS\"]\n",
        "stock5=[\"AUROPHARMA.NS\",\"GLENMARK.NS\",\"PEL.NS\",\"BIOCON.NS\",\"DIVISLAB.NS\",\"LUPIN.NS\",\"CADILAHC.NS\",\"SUNPHARMA.NS\",\"DRREDDY.NS\",\"CIPLA.NS\"]\n",
        "stock6=[\"SOBHA.NS\",\"DLF.NS\",\"OBEROIRLTY.NS\",\"MAHLIFE.NS\",\"SUNTECK.NS\",\"BRIGADE.NS\",\"GODREJPROP.NS\",\"PHOENIXLTD.NS\",\"PRESTIGE.NS\",\"IBREALEST.NS\"]\n",
        "stock7=[\"BALAJITELE.NS\",\"TV18BRDCST.NS\",\"NETWORK18.NS\",\"SUNTV.NS\",\"DISHTV.NS\",\"ZEEMEDIA.NS\",\"PVR.NS\",\"JUMPNET.NS\",\"ZEEL.NS\",\"INOXLEISUR.NS\",\"TVTODAY.NS\",\"DBCORP.NS\",\"JAGRAN.NS\",\"SAREGAMA.NS\"]\n",
        "stock8=[\"HEXAWARE.NS\",\"TATAELXSI.NS\",\"WIPRO.NS\",\"JUSTDIAL.NS\",\"TCS.NS\",\"INFY.NS\",\"TECHM.NS\",\"HCLTECH.NS\",\"MINDTREE.NS\",\"NIITTECH.NS\"]\n",
        "stock9=[\"VEDL.NS\",\"JSWSTEEL.NS\",\"HINDALCO.NS\",\"WELCORP.NS\",\"HINDCOPPER.NS\",\"APLAPOLLO.NS\",\"RATNAMANI.NS\",\"TATASTEEL.NS\",\"COALINDIA.NS\",\"HINDZINC.NS\",\"NMDC.NS\",\"SAIL.NS\",\"MOIL.NS\",\"NATIONALUM.NS\",\"JINDALSTEL.NS\"]\n",
        "stock10=[\"M&MFIN.NS\",\"CHOLAFIN.NS\",\"ICICIPRULI.NS\",\"IBULHSGFIN.NS\",\"BAJFINANCE.NS\",\"SRTRANSFIN.NS\",\"HDFCLIFE.NS\",\"SBILIFE.NS\",\"RECLTD.NS\",\"BAJAJFINSV.NS\",\"BAJAJHLDNG.NS\",\"ICICIGI.NS\",\"PFC.NS\",\"EDELWEISS.NS\"]"
      ],
      "execution_count": 0,
      "outputs": []
    },
    {
      "cell_type": "code",
      "metadata": {
        "id": "AUT8TVYc8i5y",
        "colab_type": "code",
        "colab": {
          "base_uri": "https://localhost:8080/",
          "height": 557
        },
        "outputId": "58c3b079-6be7-4c01-ca0e-a3a75fe06d89"
      },
      "source": [
        "def raw(x):\n",
        "    ti = yf.Ticker(x)\n",
        "    hist = ti.history(period=\"38d\")\n",
        "    close=hist[\"Close\"]\n",
        "    open=hist[\"Open\"]\n",
        "    high=hist[\"High\"]\n",
        "    low=hist[\"Low\"]\n",
        "    volume=hist[\"Volume\"]\n",
        "    arr = {'open': open,'high': high,'low': low,'close': close,'volume': volume}\n",
        "    rsi_arr   = RSI(close, timeperiod=14)\n",
        "    rsi       = rsi_arr.take(-1)\n",
        "    sma_c_arr = SMA(close, timeperiod=25)\n",
        "    sma_c     = sma_c_arr.take(-1)\n",
        "    sma_v_arr = SMA(volume, timeperiod=10)\n",
        "    sma_v     = sma_v_arr.take(-1)\n",
        "    adx       = ADX(high, low, close, timeperiod=14)\n",
        "    vol     =volume[37]\n",
        "    vo      =open[37]\n",
        "    vh      =high[37]\n",
        "    vl      =low[37]\n",
        "    vc      =close[37]\n",
        "    v1o     =open[36]\n",
        "    v1h     =high[36]\n",
        "    v1l     =low[36]\n",
        "    v1c     =close[36]\n",
        "    v2o     =open[35]\n",
        "    v2h     =high[35]\n",
        "    v2l     =low[35]\n",
        "    v2c     =close[35]\n",
        "    v20o    =open[19]\n",
        "    v20h    =high[19]\n",
        "    v20l    =low[19]\n",
        "    v20c    =close[19]\n",
        "    v38o    =open[0]\n",
        "    v38h    =high[0]\n",
        "    v38l    =low[0]\n",
        "    v38c    =close[0]\n",
        "    if((vo > vh*0.9975) and (vc < vl*1.0025) and (vol>sma_v) and (rsi>70)):\n",
        "        print(\"Bear Marubozo\")\n",
        "    if((vc > vh*0.9975) and (vo < vl*1.0025) and (vol>sma_v) and (rsi<30)):\n",
        "        print(\"Bull Marubozo\")\n",
        "    if((vc < vo*1.0025) and (vc > vo) and (vol>sma_v) and (rsi>70)) or (rsi<30):\n",
        "        print(\"Doji\")\n",
        "    if((vc > vo*0.9975) and (vc < vo) and (vol>sma_v) and (rsi>70)) or (rsi<30):\n",
        "        print(\"Doji\")\n",
        "    if(((vo-vl) > 2*(vc-vo)) and (vc > vh*.9975) and (vol>sma_v) and (rsi<30)):\n",
        "        print(\"Hammer\")\n",
        "    if(((vc-vl) > 2*(vo-vc)) and (vo > vh*.9975) and (vol>sma_v) and (rsi>70)):\n",
        "        print(\"Hanging man\")\n",
        "    if(((vl<v20h*.7500) or (vl<v38h*.7000)) and (v1c<v1o) and (vo<v1c) and (vc>v1o) and (vol>sma_v) and (rsi<30)):\n",
        "        print(\"Bullish Engulfing\")\n",
        "    if(((vh>v20h*1.2500) or (vh>v38h*1.3000)) and (v1c>v1o) and (vo>v1c) and (vc<v1o) and (vol>sma_v) and (rsi>70)):\n",
        "        print(\"Bearish Engulfing\")\n",
        "    \n",
        "for i in stock:\n",
        "    fun= raw(i)\n",
        "    d  = {i:[fun]}\n",
        "    df= pd.DataFrame(data=d)\n",
        "    print(df)"
      ],
      "execution_count": 50,
      "outputs": [
        {
          "output_type": "stream",
          "text": [
            "  JUBLFOOD.NS\n",
            "0        None\n",
            "  TATACONSUM.NS\n",
            "0          None\n",
            "  MARICO.NS\n",
            "0      None\n",
            "  PGHH.NS\n",
            "0    None\n",
            "  DABUR.NS\n",
            "0     None\n",
            "  MCDOWELL-N.NS\n",
            "0          None\n",
            "  BRITANNIA.NS\n",
            "0         None\n",
            "  COLPAL.NS\n",
            "0      None\n",
            "  NESTLEIND.NS\n",
            "0         None\n",
            "  UBL.NS\n",
            "0   None\n",
            "  GODREJCP.NS\n",
            "0        None\n",
            "  HINDUNILVR.NS\n",
            "0          None\n",
            "  GODREJIND.NS\n",
            "0         None\n",
            "  EMAMILTD.NS\n",
            "0        None\n",
            "  ITC.NS\n",
            "0   None\n"
          ],
          "name": "stdout"
        }
      ]
    }
  ]
}