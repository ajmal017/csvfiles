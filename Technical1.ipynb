{
  "nbformat": 4,
  "nbformat_minor": 0,
  "metadata": {
    "colab": {
      "name": "Technical1.ipynb",
      "provenance": [],
      "collapsed_sections": [],
      "authorship_tag": "ABX9TyNV82++IerrzLnoUUdMeerF",
      "include_colab_link": true
    },
    "kernelspec": {
      "name": "python3",
      "display_name": "Python 3"
    }
  },
  "cells": [
    {
      "cell_type": "markdown",
      "metadata": {
        "id": "view-in-github",
        "colab_type": "text"
      },
      "source": [
        "<a href=\"https://colab.research.google.com/github/animalran/csvfiles/blob/master/Technical1.ipynb\" target=\"_parent\"><img src=\"https://colab.research.google.com/assets/colab-badge.svg\" alt=\"Open In Colab\"/></a>"
      ]
    },
    {
      "cell_type": "code",
      "metadata": {
        "id": "hmlRJ4T57aIn",
        "colab_type": "code",
        "colab": {}
      },
      "source": [
        "import requests\n",
        "import pandas as pd\n",
        "!pip install yfinance\n",
        "!wget https://launchpad.net/~mario-mariomedina/+archive/ubuntu/talib/+files/libta-lib0_0.4.0-oneiric1_amd64.deb -qO libta.deb\n",
        "!wget https://launchpad.net/~mario-mariomedina/+archive/ubuntu/talib/+files/ta-lib0-dev_0.4.0-oneiric1_amd64.deb -qO ta.deb\n",
        "!dpkg -i libta.deb ta.deb\n",
        "!pip install ta-lib\n",
        "\n",
        "import talib\n",
        "import yfinance as yf\n",
        "import numpy as np\n",
        "import talib as ta\n",
        "import matplotlib.pyplot as plt\n",
        "from talib import MA_Type\n",
        "from talib import abstract\n",
        "from talib.abstract import *\n"
      ],
      "execution_count": 0,
      "outputs": []
    },
    {
      "cell_type": "code",
      "metadata": {
        "id": "8E7QdWSW-mxw",
        "colab_type": "code",
        "colab": {}
      },
      "source": [
        "stock=[\"SBIN.NS\",\"INFY.NS\"]"
      ],
      "execution_count": 0,
      "outputs": []
    },
    {
      "cell_type": "code",
      "metadata": {
        "id": "AUT8TVYc8i5y",
        "colab_type": "code",
        "colab": {}
      },
      "source": [
        "def raw(x):\n",
        "    ti = yf.Ticker(x)\n",
        "    hist = ti.history(period=\"38d\")\n",
        "    close=hist[\"Close\"]\n",
        "    open=hist[\"Open\"]\n",
        "    high=hist[\"High\"]\n",
        "    low=hist[\"Low\"]\n",
        "    volume=hist[\"Volume\"]\n",
        "    arr = {'open': open,'high': high,'low': low,'close': close,'volume': volume}\n",
        "    rsi_arr   = RSI(close, timeperiod=14)\n",
        "    rsi       = rsi_arr.take(-1)\n",
        "    sma_c_arr = SMA(close, timeperiod=25)\n",
        "    sma_c     = sma_c_arr.take(-1)\n",
        "    sma_v_arr = SMA(volume, timeperiod=10)\n",
        "    sma_v     = sma_v_arr.take(-1)\n",
        "    adx       = ADX(high, low, close, timeperiod=14)\n",
        "    vol     =volume[37]\n",
        "    vo      =open[37]\n",
        "    vh      =high[37]\n",
        "    vl      =low[37]\n",
        "    vc      =close[37]\n",
        "    v1o     =open[36]\n",
        "    v1h     =high[36]\n",
        "    v1l     =low[36]\n",
        "    v1c     =close[36]\n",
        "    v2o     =open[35]\n",
        "    v2h     =high[35]\n",
        "    v2l     =low[35]\n",
        "    v2c     =close[35]\n",
        "    v20o    =open[19]\n",
        "    v20h    =high[19]\n",
        "    v20l    =low[19]\n",
        "    v20c    =close[19]\n",
        "    v38o    =open[0]\n",
        "    v38h    =high[0]\n",
        "    v38l    =low[0]\n",
        "    v38c    =close[0]\n",
        "    if((vo > vh*0.9975) and (vc < vl*1.0025) and (vol>sma_v) and (rsi>70)):\n",
        "        print(\"Bear Marubozo\")\n",
        "    if((vc > vh*0.9975) and (vo < vl*1.0025) and (vol>sma_v) and (rsi<30)):\n",
        "        print(\"Bull Marubozo\")\n",
        "    if((vc < vo*1.0025) and (vc > vo) and (vol>sma_v) and (rsi>70)) or (rsi<30):\n",
        "        print(\"Doji\")\n",
        "    if((vc > vo*0.9975) and (vc < vo) and (vol>sma_v) and (rsi>70)) or (rsi<30):\n",
        "        print(\"Doji\")\n",
        "    if(((vo-vl) > 2*(vc-vo)) and (vc > vh*.9975) and (vol>sma_v) and (rsi<30)):\n",
        "        print(\"Hammer\")\n",
        "    if(((vc-vl) > 2*(vo-vc)) and (vo > vh*.9975) and (vol>sma_v) and (rsi>70)):\n",
        "        print(\"Hanging man\")\n",
        "    if(((vl<v20h*.7500) or (vl<v38h*.7000)) and (v1c<v1o) and (vo<v1c) and (vc>v1o) and (vol>sma_v) and (rsi<30)):\n",
        "        print(\"Bullish Engulfing\")\n",
        "    if(((vh>v20h*1.2500) or (vh>v38h*1.3000)) and (v1c>v1o) and (vo>v1c) and (vc<v1o) and (vol>sma_v) and (rsi>70)):\n",
        "        print(\"Bearish Engulfing\")\n",
        "    \n",
        "for i in stock:\n",
        "    fun= raw(i)\n",
        "    d  = {i:[fun]}\n",
        "    df= pd.DataFrame(data=d)\n",
        "    print(df)"
      ],
      "execution_count": 0,
      "outputs": []
    }
  ]
}