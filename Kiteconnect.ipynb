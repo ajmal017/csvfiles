{
  "nbformat": 4,
  "nbformat_minor": 0,
  "metadata": {
    "colab": {
      "name": "Kiteconnect.ipynb",
      "provenance": [],
      "authorship_tag": "ABX9TyOWd0XK8EzA0p21taY68Pj2",
      "include_colab_link": true
    },
    "kernelspec": {
      "name": "python3",
      "display_name": "Python 3"
    },
    "accelerator": "GPU"
  },
  "cells": [
    {
      "cell_type": "markdown",
      "metadata": {
        "id": "view-in-github",
        "colab_type": "text"
      },
      "source": [
        "<a href=\"https://colab.research.google.com/github/animalran/csvfiles/blob/master/Kiteconnect.ipynb\" target=\"_parent\"><img src=\"https://colab.research.google.com/assets/colab-badge.svg\" alt=\"Open In Colab\"/></a>"
      ]
    },
    {
      "cell_type": "code",
      "metadata": {
        "id": "AuwqAXlvg8Kp",
        "colab_type": "code",
        "colab": {
          "base_uri": "https://localhost:8080/",
          "height": 1000
        },
        "outputId": "f5ddfd1e-dfa6-4279-ac5d-aa37618634bd"
      },
      "source": [
        "!pip install kiteconnect"
      ],
      "execution_count": null,
      "outputs": [
        {
          "output_type": "stream",
          "text": [
            "Collecting kiteconnect\n",
            "  Downloading https://files.pythonhosted.org/packages/b3/ca/13d0565cb51baa1df6344f2dd7f10eb32c0e28a7213a49d82d70cab9326a/kiteconnect-3.8.2.tar.gz\n",
            "Requirement already satisfied: requests>=2.18.4 in /usr/local/lib/python3.6/dist-packages (from kiteconnect) (2.23.0)\n",
            "Requirement already satisfied: six>=1.11.0 in /usr/local/lib/python3.6/dist-packages (from kiteconnect) (1.12.0)\n",
            "Collecting pyOpenSSL>=17.5.0\n",
            "\u001b[?25l  Downloading https://files.pythonhosted.org/packages/9e/de/f8342b68fa9e981d348039954657bdf681b2ab93de27443be51865ffa310/pyOpenSSL-19.1.0-py2.py3-none-any.whl (53kB)\n",
            "\r\u001b[K     |██████                          | 10kB 18.2MB/s eta 0:00:01\r\u001b[K     |████████████▏                   | 20kB 14.4MB/s eta 0:00:01\r\u001b[K     |██████████████████▎             | 30kB 2.6MB/s eta 0:00:01\r\u001b[K     |████████████████████████▍       | 40kB 3.0MB/s eta 0:00:01\r\u001b[K     |██████████████████████████████▌ | 51kB 3.4MB/s eta 0:00:01\r\u001b[K     |████████████████████████████████| 61kB 2.8MB/s \n",
            "\u001b[?25hCollecting enum34>=1.1.6\n",
            "  Downloading https://files.pythonhosted.org/packages/63/f6/ccb1c83687756aeabbf3ca0f213508fcfb03883ff200d201b3a4c60cedcc/enum34-1.1.10-py3-none-any.whl\n",
            "Requirement already satisfied: python-dateutil>=2.6.1 in /usr/local/lib/python3.6/dist-packages (from kiteconnect) (2.8.1)\n",
            "Collecting autobahn[twisted]>=17.10.1\n",
            "\u001b[?25l  Downloading https://files.pythonhosted.org/packages/ee/78/d1a629bd160bb6d24358c4e6766cf498cd1ec3bdd2858d03a509d8f54dfb/autobahn-20.6.2-py2.py3-none-any.whl (1.5MB)\n",
            "\r\u001b[K     |▏                               | 10kB 19.1MB/s eta 0:00:01\r\u001b[K     |▍                               | 20kB 15.9MB/s eta 0:00:01\r\u001b[K     |▋                               | 30kB 17.0MB/s eta 0:00:01\r\u001b[K     |▉                               | 40kB 14.5MB/s eta 0:00:01\r\u001b[K     |█                               | 51kB 11.3MB/s eta 0:00:01\r\u001b[K     |█▎                              | 61kB 11.1MB/s eta 0:00:01\r\u001b[K     |█▌                              | 71kB 10.1MB/s eta 0:00:01\r\u001b[K     |█▊                              | 81kB 7.0MB/s eta 0:00:01\r\u001b[K     |██                              | 92kB 7.4MB/s eta 0:00:01\r\u001b[K     |██▏                             | 102kB 7.7MB/s eta 0:00:01\r\u001b[K     |██▍                             | 112kB 7.7MB/s eta 0:00:01\r\u001b[K     |██▋                             | 122kB 7.7MB/s eta 0:00:01\r\u001b[K     |██▉                             | 133kB 7.7MB/s eta 0:00:01\r\u001b[K     |███                             | 143kB 7.7MB/s eta 0:00:01\r\u001b[K     |███▎                            | 153kB 7.7MB/s eta 0:00:01\r\u001b[K     |███▌                            | 163kB 7.7MB/s eta 0:00:01\r\u001b[K     |███▊                            | 174kB 7.7MB/s eta 0:00:01\r\u001b[K     |████                            | 184kB 7.7MB/s eta 0:00:01\r\u001b[K     |████▏                           | 194kB 7.7MB/s eta 0:00:01\r\u001b[K     |████▍                           | 204kB 7.7MB/s eta 0:00:01\r\u001b[K     |████▋                           | 215kB 7.7MB/s eta 0:00:01\r\u001b[K     |████▉                           | 225kB 7.7MB/s eta 0:00:01\r\u001b[K     |█████                           | 235kB 7.7MB/s eta 0:00:01\r\u001b[K     |█████▎                          | 245kB 7.7MB/s eta 0:00:01\r\u001b[K     |█████▌                          | 256kB 7.7MB/s eta 0:00:01\r\u001b[K     |█████▊                          | 266kB 7.7MB/s eta 0:00:01\r\u001b[K     |██████                          | 276kB 7.7MB/s eta 0:00:01\r\u001b[K     |██████▏                         | 286kB 7.7MB/s eta 0:00:01\r\u001b[K     |██████▍                         | 296kB 7.7MB/s eta 0:00:01\r\u001b[K     |██████▋                         | 307kB 7.7MB/s eta 0:00:01\r\u001b[K     |██████▉                         | 317kB 7.7MB/s eta 0:00:01\r\u001b[K     |███████                         | 327kB 7.7MB/s eta 0:00:01\r\u001b[K     |███████▎                        | 337kB 7.7MB/s eta 0:00:01\r\u001b[K     |███████▌                        | 348kB 7.7MB/s eta 0:00:01\r\u001b[K     |███████▊                        | 358kB 7.7MB/s eta 0:00:01\r\u001b[K     |████████                        | 368kB 7.7MB/s eta 0:00:01\r\u001b[K     |████████▏                       | 378kB 7.7MB/s eta 0:00:01\r\u001b[K     |████████▍                       | 389kB 7.7MB/s eta 0:00:01\r\u001b[K     |████████▋                       | 399kB 7.7MB/s eta 0:00:01\r\u001b[K     |████████▉                       | 409kB 7.7MB/s eta 0:00:01\r\u001b[K     |█████████                       | 419kB 7.7MB/s eta 0:00:01\r\u001b[K     |█████████▎                      | 430kB 7.7MB/s eta 0:00:01\r\u001b[K     |█████████▌                      | 440kB 7.7MB/s eta 0:00:01\r\u001b[K     |█████████▊                      | 450kB 7.7MB/s eta 0:00:01\r\u001b[K     |██████████                      | 460kB 7.7MB/s eta 0:00:01\r\u001b[K     |██████████▏                     | 471kB 7.7MB/s eta 0:00:01\r\u001b[K     |██████████▍                     | 481kB 7.7MB/s eta 0:00:01\r\u001b[K     |██████████▋                     | 491kB 7.7MB/s eta 0:00:01\r\u001b[K     |██████████▉                     | 501kB 7.7MB/s eta 0:00:01\r\u001b[K     |███████████                     | 512kB 7.7MB/s eta 0:00:01\r\u001b[K     |███████████▎                    | 522kB 7.7MB/s eta 0:00:01\r\u001b[K     |███████████▌                    | 532kB 7.7MB/s eta 0:00:01\r\u001b[K     |███████████▊                    | 542kB 7.7MB/s eta 0:00:01\r\u001b[K     |████████████                    | 552kB 7.7MB/s eta 0:00:01\r\u001b[K     |████████████▏                   | 563kB 7.7MB/s eta 0:00:01\r\u001b[K     |████████████▍                   | 573kB 7.7MB/s eta 0:00:01\r\u001b[K     |████████████▋                   | 583kB 7.7MB/s eta 0:00:01\r\u001b[K     |████████████▉                   | 593kB 7.7MB/s eta 0:00:01\r\u001b[K     |█████████████                   | 604kB 7.7MB/s eta 0:00:01\r\u001b[K     |█████████████▎                  | 614kB 7.7MB/s eta 0:00:01\r\u001b[K     |█████████████▌                  | 624kB 7.7MB/s eta 0:00:01\r\u001b[K     |█████████████▋                  | 634kB 7.7MB/s eta 0:00:01\r\u001b[K     |█████████████▉                  | 645kB 7.7MB/s eta 0:00:01\r\u001b[K     |██████████████                  | 655kB 7.7MB/s eta 0:00:01\r\u001b[K     |██████████████▎                 | 665kB 7.7MB/s eta 0:00:01\r\u001b[K     |██████████████▌                 | 675kB 7.7MB/s eta 0:00:01\r\u001b[K     |██████████████▊                 | 686kB 7.7MB/s eta 0:00:01\r\u001b[K     |███████████████                 | 696kB 7.7MB/s eta 0:00:01\r\u001b[K     |███████████████▏                | 706kB 7.7MB/s eta 0:00:01\r\u001b[K     |███████████████▍                | 716kB 7.7MB/s eta 0:00:01\r\u001b[K     |███████████████▋                | 727kB 7.7MB/s eta 0:00:01\r\u001b[K     |███████████████▉                | 737kB 7.7MB/s eta 0:00:01\r\u001b[K     |████████████████                | 747kB 7.7MB/s eta 0:00:01\r\u001b[K     |████████████████▎               | 757kB 7.7MB/s eta 0:00:01\r\u001b[K     |████████████████▌               | 768kB 7.7MB/s eta 0:00:01\r\u001b[K     |████████████████▊               | 778kB 7.7MB/s eta 0:00:01\r\u001b[K     |█████████████████               | 788kB 7.7MB/s eta 0:00:01\r\u001b[K     |█████████████████▏              | 798kB 7.7MB/s eta 0:00:01\r\u001b[K     |█████████████████▍              | 808kB 7.7MB/s eta 0:00:01\r\u001b[K     |█████████████████▋              | 819kB 7.7MB/s eta 0:00:01\r\u001b[K     |█████████████████▉              | 829kB 7.7MB/s eta 0:00:01\r\u001b[K     |██████████████████              | 839kB 7.7MB/s eta 0:00:01\r\u001b[K     |██████████████████▎             | 849kB 7.7MB/s eta 0:00:01\r\u001b[K     |██████████████████▌             | 860kB 7.7MB/s eta 0:00:01\r\u001b[K     |██████████████████▊             | 870kB 7.7MB/s eta 0:00:01\r\u001b[K     |███████████████████             | 880kB 7.7MB/s eta 0:00:01\r\u001b[K     |███████████████████▏            | 890kB 7.7MB/s eta 0:00:01\r\u001b[K     |███████████████████▍            | 901kB 7.7MB/s eta 0:00:01\r\u001b[K     |███████████████████▋            | 911kB 7.7MB/s eta 0:00:01\r\u001b[K     |███████████████████▉            | 921kB 7.7MB/s eta 0:00:01\r\u001b[K     |████████████████████            | 931kB 7.7MB/s eta 0:00:01\r\u001b[K     |████████████████████▎           | 942kB 7.7MB/s eta 0:00:01\r\u001b[K     |████████████████████▌           | 952kB 7.7MB/s eta 0:00:01\r\u001b[K     |████████████████████▊           | 962kB 7.7MB/s eta 0:00:01\r\u001b[K     |█████████████████████           | 972kB 7.7MB/s eta 0:00:01\r\u001b[K     |█████████████████████▏          | 983kB 7.7MB/s eta 0:00:01\r\u001b[K     |█████████████████████▍          | 993kB 7.7MB/s eta 0:00:01\r\u001b[K     |█████████████████████▋          | 1.0MB 7.7MB/s eta 0:00:01\r\u001b[K     |█████████████████████▉          | 1.0MB 7.7MB/s eta 0:00:01\r\u001b[K     |██████████████████████          | 1.0MB 7.7MB/s eta 0:00:01\r\u001b[K     |██████████████████████▎         | 1.0MB 7.7MB/s eta 0:00:01\r\u001b[K     |██████████████████████▌         | 1.0MB 7.7MB/s eta 0:00:01\r\u001b[K     |██████████████████████▊         | 1.1MB 7.7MB/s eta 0:00:01\r\u001b[K     |███████████████████████         | 1.1MB 7.7MB/s eta 0:00:01\r\u001b[K     |███████████████████████▏        | 1.1MB 7.7MB/s eta 0:00:01\r\u001b[K     |███████████████████████▍        | 1.1MB 7.7MB/s eta 0:00:01\r\u001b[K     |███████████████████████▋        | 1.1MB 7.7MB/s eta 0:00:01\r\u001b[K     |███████████████████████▉        | 1.1MB 7.7MB/s eta 0:00:01\r\u001b[K     |████████████████████████        | 1.1MB 7.7MB/s eta 0:00:01\r\u001b[K     |████████████████████████▎       | 1.1MB 7.7MB/s eta 0:00:01\r\u001b[K     |████████████████████████▌       | 1.1MB 7.7MB/s eta 0:00:01\r\u001b[K     |████████████████████████▊       | 1.1MB 7.7MB/s eta 0:00:01\r\u001b[K     |█████████████████████████       | 1.2MB 7.7MB/s eta 0:00:01\r\u001b[K     |█████████████████████████▏      | 1.2MB 7.7MB/s eta 0:00:01\r\u001b[K     |█████████████████████████▍      | 1.2MB 7.7MB/s eta 0:00:01\r\u001b[K     |█████████████████████████▋      | 1.2MB 7.7MB/s eta 0:00:01\r\u001b[K     |█████████████████████████▉      | 1.2MB 7.7MB/s eta 0:00:01\r\u001b[K     |██████████████████████████      | 1.2MB 7.7MB/s eta 0:00:01\r\u001b[K     |██████████████████████████▎     | 1.2MB 7.7MB/s eta 0:00:01\r\u001b[K     |██████████████████████████▌     | 1.2MB 7.7MB/s eta 0:00:01\r\u001b[K     |██████████████████████████▊     | 1.2MB 7.7MB/s eta 0:00:01\r\u001b[K     |███████████████████████████     | 1.2MB 7.7MB/s eta 0:00:01\r\u001b[K     |███████████████████████████     | 1.3MB 7.7MB/s eta 0:00:01\r\u001b[K     |███████████████████████████▎    | 1.3MB 7.7MB/s eta 0:00:01\r\u001b[K     |███████████████████████████▌    | 1.3MB 7.7MB/s eta 0:00:01\r\u001b[K     |███████████████████████████▊    | 1.3MB 7.7MB/s eta 0:00:01\r\u001b[K     |████████████████████████████    | 1.3MB 7.7MB/s eta 0:00:01\r\u001b[K     |████████████████████████████▏   | 1.3MB 7.7MB/s eta 0:00:01\r\u001b[K     |████████████████████████████▍   | 1.3MB 7.7MB/s eta 0:00:01\r\u001b[K     |████████████████████████████▋   | 1.3MB 7.7MB/s eta 0:00:01\r\u001b[K     |████████████████████████████▉   | 1.3MB 7.7MB/s eta 0:00:01\r\u001b[K     |█████████████████████████████   | 1.4MB 7.7MB/s eta 0:00:01\r\u001b[K     |█████████████████████████████▎  | 1.4MB 7.7MB/s eta 0:00:01\r\u001b[K     |█████████████████████████████▌  | 1.4MB 7.7MB/s eta 0:00:01\r\u001b[K     |█████████████████████████████▊  | 1.4MB 7.7MB/s eta 0:00:01\r\u001b[K     |██████████████████████████████  | 1.4MB 7.7MB/s eta 0:00:01\r\u001b[K     |██████████████████████████████▏ | 1.4MB 7.7MB/s eta 0:00:01\r\u001b[K     |██████████████████████████████▍ | 1.4MB 7.7MB/s eta 0:00:01\r\u001b[K     |██████████████████████████████▋ | 1.4MB 7.7MB/s eta 0:00:01\r\u001b[K     |██████████████████████████████▉ | 1.4MB 7.7MB/s eta 0:00:01\r\u001b[K     |███████████████████████████████ | 1.4MB 7.7MB/s eta 0:00:01\r\u001b[K     |███████████████████████████████▎| 1.5MB 7.7MB/s eta 0:00:01\r\u001b[K     |███████████████████████████████▌| 1.5MB 7.7MB/s eta 0:00:01\r\u001b[K     |███████████████████████████████▊| 1.5MB 7.7MB/s eta 0:00:01\r\u001b[K     |████████████████████████████████| 1.5MB 7.7MB/s eta 0:00:01\r\u001b[K     |████████████████████████████████| 1.5MB 7.7MB/s \n",
            "\u001b[?25hRequirement already satisfied: chardet<4,>=3.0.2 in /usr/local/lib/python3.6/dist-packages (from requests>=2.18.4->kiteconnect) (3.0.4)\n",
            "Requirement already satisfied: certifi>=2017.4.17 in /usr/local/lib/python3.6/dist-packages (from requests>=2.18.4->kiteconnect) (2020.6.20)\n",
            "Requirement already satisfied: urllib3!=1.25.0,!=1.25.1,<1.26,>=1.21.1 in /usr/local/lib/python3.6/dist-packages (from requests>=2.18.4->kiteconnect) (1.24.3)\n",
            "Requirement already satisfied: idna<3,>=2.5 in /usr/local/lib/python3.6/dist-packages (from requests>=2.18.4->kiteconnect) (2.9)\n",
            "Collecting cryptography>=2.8\n",
            "\u001b[?25l  Downloading https://files.pythonhosted.org/packages/3c/04/686efee2dcdd25aecf357992e7d9362f443eb182ecd623f882bc9f7a6bba/cryptography-2.9.2-cp35-abi3-manylinux2010_x86_64.whl (2.7MB)\n",
            "\u001b[K     |████████████████████████████████| 2.7MB 92kB/s \n",
            "\u001b[?25hCollecting txaio>=20.3.1\n",
            "  Downloading https://files.pythonhosted.org/packages/4f/82/0cd8d81d57e55a598cd4cef10c6e971dbcaf437e4f138dc1624cf7c1388e/txaio-20.4.1-py2.py3-none-any.whl\n",
            "Requirement already satisfied: attrs>=19.2.0; extra == \"twisted\" in /usr/local/lib/python3.6/dist-packages (from autobahn[twisted]>=17.10.1->kiteconnect) (19.3.0)\n",
            "Collecting twisted>=20.3.0; extra == \"twisted\"\n",
            "\u001b[?25l  Downloading https://files.pythonhosted.org/packages/b7/04/1a664c9e5ec0224a1c1a154ddecaa4dc7b8967521bba225efcc41a03d5f3/Twisted-20.3.0-cp36-cp36m-manylinux1_x86_64.whl (3.1MB)\n",
            "\u001b[K     |████████████████████████████████| 3.1MB 48.8MB/s \n",
            "\u001b[?25hCollecting zope.interface>=3.6.0; extra == \"twisted\"\n",
            "\u001b[?25l  Downloading https://files.pythonhosted.org/packages/57/33/565274c28a11af60b7cfc0519d46bde4125fcd7d32ebc0a81b480d0e8da6/zope.interface-5.1.0-cp36-cp36m-manylinux2010_x86_64.whl (234kB)\n",
            "\u001b[K     |████████████████████████████████| 235kB 44.5MB/s \n",
            "\u001b[?25hRequirement already satisfied: cffi!=1.11.3,>=1.8 in /usr/local/lib/python3.6/dist-packages (from cryptography>=2.8->pyOpenSSL>=17.5.0->kiteconnect) (1.14.0)\n",
            "Collecting Automat>=0.3.0\n",
            "  Downloading https://files.pythonhosted.org/packages/dd/83/5f6f3c1a562674d65efc320257bdc0873ec53147835aeef7762fe7585273/Automat-20.2.0-py2.py3-none-any.whl\n",
            "Collecting PyHamcrest!=1.10.0,>=1.9.0\n",
            "\u001b[?25l  Downloading https://files.pythonhosted.org/packages/40/16/e54cc65891f01cb62893540f44ffd3e8dab0a22443e1b438f1a9f5574bee/PyHamcrest-2.0.2-py3-none-any.whl (52kB)\n",
            "\u001b[K     |████████████████████████████████| 61kB 8.1MB/s \n",
            "\u001b[?25hCollecting incremental>=16.10.1\n",
            "  Downloading https://files.pythonhosted.org/packages/f5/1d/c98a587dc06e107115cf4a58b49de20b19222c83d75335a192052af4c4b7/incremental-17.5.0-py2.py3-none-any.whl\n",
            "Collecting hyperlink>=17.1.1\n",
            "  Downloading https://files.pythonhosted.org/packages/7f/91/e916ca10a2de1cb7101a9b24da546fb90ee14629e23160086cf3361c4fb8/hyperlink-19.0.0-py2.py3-none-any.whl\n",
            "Collecting constantly>=15.1\n",
            "  Downloading https://files.pythonhosted.org/packages/b9/65/48c1909d0c0aeae6c10213340ce682db01b48ea900a7d9fce7a7910ff318/constantly-15.1.0-py2.py3-none-any.whl\n",
            "Requirement already satisfied: setuptools in /usr/local/lib/python3.6/dist-packages (from zope.interface>=3.6.0; extra == \"twisted\"->autobahn[twisted]>=17.10.1->kiteconnect) (47.3.1)\n",
            "Requirement already satisfied: pycparser in /usr/local/lib/python3.6/dist-packages (from cffi!=1.11.3,>=1.8->cryptography>=2.8->pyOpenSSL>=17.5.0->kiteconnect) (2.20)\n",
            "Building wheels for collected packages: kiteconnect\n",
            "\u001b[33m  WARNING: Legacy build of wheel for 'kiteconnect' created no files.\n",
            "  Command arguments: /usr/bin/python3 -u -c 'import sys, setuptools, tokenize; sys.argv[0] = '\"'\"'/tmp/pip-install-1tl4gse9/kiteconnect/setup.py'\"'\"'; __file__='\"'\"'/tmp/pip-install-1tl4gse9/kiteconnect/setup.py'\"'\"';f=getattr(tokenize, '\"'\"'open'\"'\"', open)(__file__);code=f.read().replace('\"'\"'\\r\\n'\"'\"', '\"'\"'\\n'\"'\"');f.close();exec(compile(code, __file__, '\"'\"'exec'\"'\"'))' bdist_wheel -d /tmp/pip-wheel-t4czz72v --python-tag cp36\n",
            "  Command output:\n",
            "  running bdist_wheel\n",
            "  /tmp/pip-install-1tl4gse9/kiteconnect/setup.py:76: UserWarning: kiteconnect3.8.2 does not support building wheels\n",
            "    version=about[\"__version__\"]\n",
            "  ----------------------------------------\u001b[0m\n",
            "  Building wheel for kiteconnect (setup.py) ... \u001b[?25l\u001b[?25hdone\n",
            "  Running setup.py clean for kiteconnect\n",
            "Failed to build kiteconnect\n",
            "Installing collected packages: cryptography, pyOpenSSL, enum34, txaio, Automat, PyHamcrest, zope.interface, incremental, hyperlink, constantly, twisted, autobahn, kiteconnect\n",
            "    Running setup.py install for kiteconnect ... \u001b[?25l\u001b[?25hdone\n",
            "Successfully installed Automat-20.2.0 PyHamcrest-2.0.2 autobahn-20.6.2 constantly-15.1.0 cryptography-2.9.2 enum34-1.1.10 hyperlink-19.0.0 incremental-17.5.0 kiteconnect-3.8.2 pyOpenSSL-19.1.0 twisted-20.3.0 txaio-20.4.1 zope.interface-5.1.0\n"
          ],
          "name": "stdout"
        },
        {
          "output_type": "display_data",
          "data": {
            "application/vnd.colab-display-data+json": {
              "pip_warning": {
                "packages": [
                  "enum"
                ]
              }
            }
          },
          "metadata": {
            "tags": []
          }
        }
      ]
    },
    {
      "cell_type": "code",
      "metadata": {
        "id": "04UIi5EqhbH2",
        "colab_type": "code",
        "colab": {
          "base_uri": "https://localhost:8080/",
          "height": 55
        },
        "outputId": "2879340a-0b85-4e86-e802-0601374ed352"
      },
      "source": [
        "from kiteconnect import KiteConnect\n",
        "print(dir(KiteConnect))"
      ],
      "execution_count": null,
      "outputs": [
        {
          "output_type": "stream",
          "text": [
            "['EXCHANGE_BFO', 'EXCHANGE_BSE', 'EXCHANGE_CDS', 'EXCHANGE_MCX', 'EXCHANGE_NFO', 'EXCHANGE_NSE', 'GTT_STATUS_ACTIVE', 'GTT_STATUS_CANCELLED', 'GTT_STATUS_DELETED', 'GTT_STATUS_DISABLED', 'GTT_STATUS_EXPIRED', 'GTT_STATUS_REJECTED', 'GTT_STATUS_TRIGGERED', 'GTT_TYPE_OCO', 'GTT_TYPE_SINGLE', 'MARGIN_COMMODITY', 'MARGIN_EQUITY', 'ORDER_TYPE_LIMIT', 'ORDER_TYPE_MARKET', 'ORDER_TYPE_SL', 'ORDER_TYPE_SLM', 'PRODUCT_BO', 'PRODUCT_CNC', 'PRODUCT_CO', 'PRODUCT_MIS', 'PRODUCT_NRML', 'STATUS_CANCELLED', 'STATUS_COMPLETE', 'STATUS_REJECTED', 'TRANSACTION_TYPE_BUY', 'TRANSACTION_TYPE_SELL', 'VALIDITY_DAY', 'VALIDITY_IOC', 'VARIETY_AMO', 'VARIETY_BO', 'VARIETY_CO', 'VARIETY_REGULAR', '__class__', '__delattr__', '__dict__', '__dir__', '__doc__', '__eq__', '__format__', '__ge__', '__getattribute__', '__gt__', '__hash__', '__init__', '__init_subclass__', '__le__', '__lt__', '__module__', '__ne__', '__new__', '__reduce__', '__reduce_ex__', '__repr__', '__setattr__', '__sizeof__', '__str__', '__subclasshook__', '__weakref__', '_default_login_uri', '_default_root_uri', '_default_timeout', '_delete', '_format_historical', '_format_response', '_get', '_get_gtt_payload', '_parse_instruments', '_parse_mf_instruments', '_post', '_put', '_request', '_routes', '_user_agent', 'cancel_mf_order', 'cancel_mf_sip', 'cancel_order', 'convert_position', 'delete_gtt', 'exit_order', 'generate_session', 'get_gtt', 'get_gtts', 'historical_data', 'holdings', 'instruments', 'invalidate_access_token', 'invalidate_refresh_token', 'login_url', 'ltp', 'margins', 'mf_holdings', 'mf_instruments', 'mf_orders', 'mf_sips', 'modify_gtt', 'modify_mf_sip', 'modify_order', 'ohlc', 'order_history', 'order_trades', 'orders', 'place_gtt', 'place_mf_order', 'place_mf_sip', 'place_order', 'positions', 'profile', 'quote', 'renew_access_token', 'set_access_token', 'set_session_expiry_hook', 'trades', 'trigger_range']\n"
          ],
          "name": "stdout"
        }
      ]
    },
    {
      "cell_type": "code",
      "metadata": {
        "id": "CKQDyBSvhnn7",
        "colab_type": "code",
        "colab": {}
      },
      "source": [
        "api_key = \"xrx73105w50h5g25\"\n",
        "api_secret  = \"4zk0dp6i1p03ji4haxrw44buh9hn5v27\"\n",
        "access_token=\"EsPLiKJw22LJnxa5OeSKqOW1nEgfJHMi\"\n",
        "# request token url\n",
        "#url= \" https://kite.trade/connect/login?api_key=xrx73105w50h5g25\"\n",
        "#request_token=\"DV0zGHYKfg2rOYMYMjIoK4K9KbIplEtS\"\n",
        "\n",
        "kite = KiteConnect(api_key=api_key)\n",
        "kite.set_access_token(access_token)\n",
        "#data = kite.generate_session(request_token,api_secret=api_secret)\n",
        "#print(data)"
      ],
      "execution_count": null,
      "outputs": []
    },
    {
      "cell_type": "code",
      "metadata": {
        "id": "c1fYZNJhkUH-",
        "colab_type": "code",
        "colab": {}
      },
      "source": [
        ""
      ],
      "execution_count": null,
      "outputs": []
    },
    {
      "cell_type": "code",
      "metadata": {
        "id": "5ovRCAtnPAER",
        "colab_type": "code",
        "colab": {
          "base_uri": "https://localhost:8080/",
          "height": 38
        },
        "outputId": "8ea8a49a-27cd-473b-ad59-001dfc46465f"
      },
      "source": [
        "#kite.place_order(variety=kite.VARIETY_CO, \n",
        "            exchange=kite.EXCHANGE_NSE, \n",
        "            tradingsymbol=\"WOCKPHARMA\", \n",
        "            transaction_type=kite.TRANSACTION_TYPE_BUY, \n",
        "            quantity=2, \n",
        "            product=kite.PRODUCT_MIS, \n",
        "            order_type=kite.ORDER_TYPE_LIMIT, \n",
        "            price=250, \n",
        "            disclosed_quantity=None, \n",
        "            trigger_price=251, \n",
        "            squareoff=10, \n",
        "            stoploss=5,)"
      ],
      "execution_count": null,
      "outputs": [
        {
          "output_type": "execute_result",
          "data": {
            "application/vnd.google.colaboratory.intrinsic": {
              "type": "string"
            },
            "text/plain": [
              "'200713101408517'"
            ]
          },
          "metadata": {
            "tags": []
          },
          "execution_count": 20
        }
      ]
    },
    {
      "cell_type": "code",
      "metadata": {
        "id": "OLzNFsmXBD0B",
        "colab_type": "code",
        "colab": {}
      },
      "source": [
        "# Cancel order\n",
        "#kite.cancel_order(variety=kite.VARIETY_REGULAR, order_id=200713101408517, parent_order_id=None)"
      ],
      "execution_count": null,
      "outputs": []
    },
    {
      "cell_type": "code",
      "metadata": {
        "id": "2hIKfD7wHZpT",
        "colab_type": "code",
        "colab": {}
      },
      "source": [
        "# Convert Order\n",
        "#kite.convert_position(exchange=\"NSE\", tradingsymbol=\"WOCKPHARMA\", transaction_type=\"BUY\",position_type=\"BUY\", quantity=2, old_product=\"MIS\", new_product=\"CNC\")\n",
        "\n",
        "kite.trades()\n"
      ],
      "execution_count": null,
      "outputs": []
    }
  ]
}