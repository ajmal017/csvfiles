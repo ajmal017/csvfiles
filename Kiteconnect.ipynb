{
  "nbformat": 4,
  "nbformat_minor": 0,
  "metadata": {
    "colab": {
      "name": "Kiteconnect.ipynb",
      "provenance": [],
      "authorship_tag": "ABX9TyOCV3QdZBz8laIs+iwMNiZn",
      "include_colab_link": true
    },
    "kernelspec": {
      "name": "python3",
      "display_name": "Python 3"
    }
  },
  "cells": [
    {
      "cell_type": "markdown",
      "metadata": {
        "id": "view-in-github",
        "colab_type": "text"
      },
      "source": [
        "<a href=\"https://colab.research.google.com/github/animalran/csvfiles/blob/master/Kiteconnect.ipynb\" target=\"_parent\"><img src=\"https://colab.research.google.com/assets/colab-badge.svg\" alt=\"Open In Colab\"/></a>"
      ]
    },
    {
      "cell_type": "code",
      "metadata": {
        "id": "AuwqAXlvg8Kp",
        "colab_type": "code",
        "colab": {
          "base_uri": "https://localhost:8080/",
          "height": 1000
        },
        "outputId": "8928bf06-2eb5-4255-bcc0-efaa00aa3905"
      },
      "source": [
        "!pip install kiteconnect"
      ],
      "execution_count": 2,
      "outputs": [
        {
          "output_type": "stream",
          "text": [
            "Collecting kiteconnect\n",
            "  Downloading https://files.pythonhosted.org/packages/b3/ca/13d0565cb51baa1df6344f2dd7f10eb32c0e28a7213a49d82d70cab9326a/kiteconnect-3.8.2.tar.gz\n",
            "Requirement already satisfied: requests>=2.18.4 in /usr/local/lib/python3.6/dist-packages (from kiteconnect) (2.23.0)\n",
            "Requirement already satisfied: six>=1.11.0 in /usr/local/lib/python3.6/dist-packages (from kiteconnect) (1.12.0)\n",
            "Collecting pyOpenSSL>=17.5.0\n",
            "\u001b[?25l  Downloading https://files.pythonhosted.org/packages/9e/de/f8342b68fa9e981d348039954657bdf681b2ab93de27443be51865ffa310/pyOpenSSL-19.1.0-py2.py3-none-any.whl (53kB)\n",
            "\u001b[K     |████████████████████████████████| 61kB 2.7MB/s \n",
            "\u001b[?25hCollecting enum34>=1.1.6\n",
            "  Downloading https://files.pythonhosted.org/packages/63/f6/ccb1c83687756aeabbf3ca0f213508fcfb03883ff200d201b3a4c60cedcc/enum34-1.1.10-py3-none-any.whl\n",
            "Requirement already satisfied: python-dateutil>=2.6.1 in /usr/local/lib/python3.6/dist-packages (from kiteconnect) (2.8.1)\n",
            "Collecting autobahn[twisted]>=17.10.1\n",
            "\u001b[?25l  Downloading https://files.pythonhosted.org/packages/ee/78/d1a629bd160bb6d24358c4e6766cf498cd1ec3bdd2858d03a509d8f54dfb/autobahn-20.6.2-py2.py3-none-any.whl (1.5MB)\n",
            "\u001b[K     |████████████████████████████████| 1.5MB 7.2MB/s \n",
            "\u001b[?25hRequirement already satisfied: certifi>=2017.4.17 in /usr/local/lib/python3.6/dist-packages (from requests>=2.18.4->kiteconnect) (2020.6.20)\n",
            "Requirement already satisfied: idna<3,>=2.5 in /usr/local/lib/python3.6/dist-packages (from requests>=2.18.4->kiteconnect) (2.9)\n",
            "Requirement already satisfied: chardet<4,>=3.0.2 in /usr/local/lib/python3.6/dist-packages (from requests>=2.18.4->kiteconnect) (3.0.4)\n",
            "Requirement already satisfied: urllib3!=1.25.0,!=1.25.1,<1.26,>=1.21.1 in /usr/local/lib/python3.6/dist-packages (from requests>=2.18.4->kiteconnect) (1.24.3)\n",
            "Collecting cryptography>=2.8\n",
            "\u001b[?25l  Downloading https://files.pythonhosted.org/packages/3c/04/686efee2dcdd25aecf357992e7d9362f443eb182ecd623f882bc9f7a6bba/cryptography-2.9.2-cp35-abi3-manylinux2010_x86_64.whl (2.7MB)\n",
            "\u001b[K     |████████████████████████████████| 2.7MB 45.5MB/s \n",
            "\u001b[?25hCollecting txaio>=20.3.1\n",
            "  Downloading https://files.pythonhosted.org/packages/4f/82/0cd8d81d57e55a598cd4cef10c6e971dbcaf437e4f138dc1624cf7c1388e/txaio-20.4.1-py2.py3-none-any.whl\n",
            "Requirement already satisfied: attrs>=19.2.0; extra == \"twisted\" in /usr/local/lib/python3.6/dist-packages (from autobahn[twisted]>=17.10.1->kiteconnect) (19.3.0)\n",
            "Collecting zope.interface>=3.6.0; extra == \"twisted\"\n",
            "\u001b[?25l  Downloading https://files.pythonhosted.org/packages/57/33/565274c28a11af60b7cfc0519d46bde4125fcd7d32ebc0a81b480d0e8da6/zope.interface-5.1.0-cp36-cp36m-manylinux2010_x86_64.whl (234kB)\n",
            "\u001b[K     |████████████████████████████████| 235kB 41.6MB/s \n",
            "\u001b[?25hCollecting twisted>=20.3.0; extra == \"twisted\"\n",
            "\u001b[?25l  Downloading https://files.pythonhosted.org/packages/b7/04/1a664c9e5ec0224a1c1a154ddecaa4dc7b8967521bba225efcc41a03d5f3/Twisted-20.3.0-cp36-cp36m-manylinux1_x86_64.whl (3.1MB)\n",
            "\u001b[K     |████████████████████████████████| 3.1MB 46.0MB/s \n",
            "\u001b[?25hRequirement already satisfied: cffi!=1.11.3,>=1.8 in /usr/local/lib/python3.6/dist-packages (from cryptography>=2.8->pyOpenSSL>=17.5.0->kiteconnect) (1.14.0)\n",
            "Requirement already satisfied: setuptools in /usr/local/lib/python3.6/dist-packages (from zope.interface>=3.6.0; extra == \"twisted\"->autobahn[twisted]>=17.10.1->kiteconnect) (47.3.1)\n",
            "Collecting constantly>=15.1\n",
            "  Downloading https://files.pythonhosted.org/packages/b9/65/48c1909d0c0aeae6c10213340ce682db01b48ea900a7d9fce7a7910ff318/constantly-15.1.0-py2.py3-none-any.whl\n",
            "Collecting incremental>=16.10.1\n",
            "  Downloading https://files.pythonhosted.org/packages/f5/1d/c98a587dc06e107115cf4a58b49de20b19222c83d75335a192052af4c4b7/incremental-17.5.0-py2.py3-none-any.whl\n",
            "Collecting PyHamcrest!=1.10.0,>=1.9.0\n",
            "\u001b[?25l  Downloading https://files.pythonhosted.org/packages/40/16/e54cc65891f01cb62893540f44ffd3e8dab0a22443e1b438f1a9f5574bee/PyHamcrest-2.0.2-py3-none-any.whl (52kB)\n",
            "\u001b[K     |████████████████████████████████| 61kB 6.5MB/s \n",
            "\u001b[?25hCollecting Automat>=0.3.0\n",
            "  Downloading https://files.pythonhosted.org/packages/dd/83/5f6f3c1a562674d65efc320257bdc0873ec53147835aeef7762fe7585273/Automat-20.2.0-py2.py3-none-any.whl\n",
            "Collecting hyperlink>=17.1.1\n",
            "  Downloading https://files.pythonhosted.org/packages/7f/91/e916ca10a2de1cb7101a9b24da546fb90ee14629e23160086cf3361c4fb8/hyperlink-19.0.0-py2.py3-none-any.whl\n",
            "Requirement already satisfied: pycparser in /usr/local/lib/python3.6/dist-packages (from cffi!=1.11.3,>=1.8->cryptography>=2.8->pyOpenSSL>=17.5.0->kiteconnect) (2.20)\n",
            "Building wheels for collected packages: kiteconnect\n",
            "\u001b[33m  WARNING: Legacy build of wheel for 'kiteconnect' created no files.\n",
            "  Command arguments: /usr/bin/python3 -u -c 'import sys, setuptools, tokenize; sys.argv[0] = '\"'\"'/tmp/pip-install-t2xti_yc/kiteconnect/setup.py'\"'\"'; __file__='\"'\"'/tmp/pip-install-t2xti_yc/kiteconnect/setup.py'\"'\"';f=getattr(tokenize, '\"'\"'open'\"'\"', open)(__file__);code=f.read().replace('\"'\"'\\r\\n'\"'\"', '\"'\"'\\n'\"'\"');f.close();exec(compile(code, __file__, '\"'\"'exec'\"'\"'))' bdist_wheel -d /tmp/pip-wheel-xubps283 --python-tag cp36\n",
            "  Command output:\n",
            "  running bdist_wheel\n",
            "  /tmp/pip-install-t2xti_yc/kiteconnect/setup.py:76: UserWarning: kiteconnect3.8.2 does not support building wheels\n",
            "    version=about[\"__version__\"]\n",
            "  ----------------------------------------\u001b[0m\n",
            "  Building wheel for kiteconnect (setup.py) ... \u001b[?25l\u001b[?25hdone\n",
            "  Running setup.py clean for kiteconnect\n",
            "Failed to build kiteconnect\n",
            "Installing collected packages: cryptography, pyOpenSSL, enum34, txaio, zope.interface, constantly, incremental, PyHamcrest, Automat, hyperlink, twisted, autobahn, kiteconnect\n",
            "    Running setup.py install for kiteconnect ... \u001b[?25l\u001b[?25hdone\n",
            "Successfully installed Automat-20.2.0 PyHamcrest-2.0.2 autobahn-20.6.2 constantly-15.1.0 cryptography-2.9.2 enum34-1.1.10 hyperlink-19.0.0 incremental-17.5.0 kiteconnect-3.8.2 pyOpenSSL-19.1.0 twisted-20.3.0 txaio-20.4.1 zope.interface-5.1.0\n"
          ],
          "name": "stdout"
        },
        {
          "output_type": "display_data",
          "data": {
            "application/vnd.colab-display-data+json": {
              "pip_warning": {
                "packages": [
                  "enum"
                ]
              }
            }
          },
          "metadata": {
            "tags": []
          }
        }
      ]
    },
    {
      "cell_type": "code",
      "metadata": {
        "id": "04UIi5EqhbH2",
        "colab_type": "code",
        "colab": {}
      },
      "source": [
        "from kiteconnect import KiteConnect\n",
        "print(dir(KiteConnect))"
      ],
      "execution_count": null,
      "outputs": []
    },
    {
      "cell_type": "code",
      "metadata": {
        "id": "CKQDyBSvhnn7",
        "colab_type": "code",
        "colab": {}
      },
      "source": [
        "api_key = \"xrx73105w50h5g25\"\n",
        "api_sexret  = \"4zk0dp6i1p03ji4haxrw44buh9hn5v27\"\n",
        "# access_token=\"\"\n",
        "# request token url\n",
        "url= \" https://kite.trade/connect/login?api_key=xrx73105w50h5g25\"\n",
        "request_token=\"\"\n",
        "\n",
        "kite = KiteConnect(api_key=api_key)\n",
        "#kite.set_access_token(access_token)\n",
        "data = kite.generate_session(request_token,api_secret=api_secret)\n",
        "print(data)"
      ],
      "execution_count": null,
      "outputs": []
    }
  ]
}