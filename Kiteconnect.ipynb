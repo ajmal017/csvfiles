{
  "nbformat": 4,
  "nbformat_minor": 0,
  "metadata": {
    "colab": {
      "name": "Kiteconnect.ipynb",
      "provenance": [],
      "authorship_tag": "ABX9TyMsmBddf5lL8kpVhegam1Wv",
      "include_colab_link": true
    },
    "kernelspec": {
      "name": "python3",
      "display_name": "Python 3"
    }
  },
  "cells": [
    {
      "cell_type": "markdown",
      "metadata": {
        "id": "view-in-github",
        "colab_type": "text"
      },
      "source": [
        "<a href=\"https://colab.research.google.com/github/animalran/csvfiles/blob/master/Kiteconnect.ipynb\" target=\"_parent\"><img src=\"https://colab.research.google.com/assets/colab-badge.svg\" alt=\"Open In Colab\"/></a>"
      ]
    },
    {
      "cell_type": "code",
      "metadata": {
        "id": "AuwqAXlvg8Kp",
        "colab_type": "code",
        "colab": {}
      },
      "source": [
        "!pip install kiteconnect"
      ],
      "execution_count": null,
      "outputs": []
    },
    {
      "cell_type": "code",
      "metadata": {
        "id": "04UIi5EqhbH2",
        "colab_type": "code",
        "colab": {}
      },
      "source": [
        "from kiteconnect import KiteConnect\n",
        "print(dir(KiteConnect))"
      ],
      "execution_count": null,
      "outputs": []
    },
    {
      "cell_type": "code",
      "metadata": {
        "id": "CKQDyBSvhnn7",
        "colab_type": "code",
        "colab": {}
      },
      "source": [
        "api_key = \"xrx73105w50h5g25\"\n",
        "api_secret  = \"4zk0dp6i1p03ji4haxrw44buh9hn5v27\"\n",
        "access_token=\"hsJeCl2g5whXvc91yZavMNFlfkyMvnB5\"\n",
        "# request token url\n",
        "#url= \" https://kite.trade/connect/login?api_key=xrx73105w50h5g25\"\n",
        "#request_token=\"Urb4BbD4q7jqCqDZW8fTDizIZs26pnaq\"\n",
        "\n",
        "kite = KiteConnect(api_key=api_key)\n",
        "kite.set_access_token(access_token)\n",
        "#data = kite.generate_session(request_token,api_secret=api_secret)\n",
        "#print(data)"
      ],
      "execution_count": null,
      "outputs": []
    },
    {
      "cell_type": "code",
      "metadata": {
        "id": "c1fYZNJhkUH-",
        "colab_type": "code",
        "colab": {}
      },
      "source": [
        "print(kite.orders())"
      ],
      "execution_count": null,
      "outputs": []
    }
  ]
}