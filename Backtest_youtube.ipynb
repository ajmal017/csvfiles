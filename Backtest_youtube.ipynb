{
  "nbformat": 4,
  "nbformat_minor": 0,
  "metadata": {
    "colab": {
      "name": "Backtest_youtube.ipynb",
      "provenance": [],
      "authorship_tag": "ABX9TyPVhJJsrmcv66cOxuFZnbln",
      "include_colab_link": true
    },
    "kernelspec": {
      "name": "python3",
      "display_name": "Python 3"
    }
  },
  "cells": [
    {
      "cell_type": "markdown",
      "metadata": {
        "id": "view-in-github",
        "colab_type": "text"
      },
      "source": [
        "<a href=\"https://colab.research.google.com/github/animalran/csvfiles/blob/master/Backtest_youtube.ipynb\" target=\"_parent\"><img src=\"https://colab.research.google.com/assets/colab-badge.svg\" alt=\"Open In Colab\"/></a>"
      ]
    },
    {
      "cell_type": "code",
      "metadata": {
        "id": "TvTCtVi2wkml",
        "colab_type": "code",
        "colab": {
          "base_uri": "https://localhost:8080/",
          "height": 613
        },
        "outputId": "67875518-5ce2-4bb9-cefe-51489b3cb0c9"
      },
      "source": [
        "!pip install empyrical\n",
        "import empyrical\n",
        "import pandas as pd\n",
        "from empyrical import max_drawdown, alpha_beta, cum_returns\n",
        "\n",
        "import math\n",
        "import statistics as stat\n",
        "def load_equities_web(symbol, date_from):\n",
        "    import pandas_datareader.data as web\n",
        "    raw_data = web.DataReader(symbol, 'yahoo', pd.to_datetime(date_from), pd.datetime.now())\n",
        "    data = raw_data.stack(dropna=False)['Adj Close'].to_frame().reset_index().rename(columns = {'Symbols':'symbol', 'Date':'date', 'Adj Close':'value'}).sort_values(by = ['symbol', 'date'])\n",
        "    return pd.pivot_table(data, columns = 'symbol', index = 'date', values ='value')\n",
        "\n",
        "\n",
        "prices = load_equities_web(['SPY', '^GSPC', '^VIX'], date_from = '2000-01-01')\n",
        "\n",
        "def backtest_strategy(prices, symbol_trade, symbol_volatility, volatility_threshold, capital, symbol_benchmark):\n",
        "    \n",
        "    \n",
        "    df_init   = (prices[symbol_trade]*0).to_frame().assign(cash = 0)\n",
        "    df_update = (prices[symbol_trade]*0).to_frame().assign(cash = 0)\n",
        "    df_end    = (prices[symbol_trade]*0).to_frame().assign(cash = 0)\n",
        "    #print(df_init.head(5))\n",
        "    df_init.iloc[0, df_init.columns.get_loc('cash')] = capital\n",
        "    df_end.iloc[0, df_end.columns.get_loc('cash')]   = capital\n",
        "    #print(df_init.head(5))\n",
        "    calendar = pd.Series(prices.index).iloc[1:]\n",
        "    \n",
        "    \n",
        "    for date in calendar:\n",
        "        prev_date = df_init.index[df_init.index<date][-1]    \n",
        "        df_init.loc[date, :] = df_end.loc[prev_date, :]\n",
        "        port_value = df_init.loc[date, symbol_trade] * prices.loc[date, symbol_trade] + df_init.loc[date, 'cash']\n",
        "        #print(port_value)\n",
        "        #print(prices.loc[date, symbol_trade]\n",
        "        if prices.loc[date, symbol_volatility] > volatility_threshold: # volatility is high -> be fully in cash\n",
        "            df_end.loc[date, symbol_trade] = 0\n",
        "            df_end.loc[date, 'cash']       = port_value\n",
        "        else: # volatility is low -> be in market position\n",
        "            df_end.loc[date, symbol_trade] = port_value/prices.loc[date, symbol_trade]\n",
        "            df_end.loc[date, 'cash'] = 0\n",
        "        df_update.loc[date] = df_end.loc[date] - df_init.loc[date]\n",
        "    #print(df_update.tail(5))\n",
        "    #print(df_init.tail(5))\n",
        "    portval = (df_end*prices.assign(cash = 1)[[symbol_trade, 'cash']]).sum(axis = 1).to_frame().rename(columns = {0:'strategy'})\n",
        "    #print(portval)\n",
        "    portval['benchmark'] = prices[symbol_benchmark]\n",
        "    #print(portval)\n",
        "    portval = portval/portval.iloc[0].values\n",
        "    dr  =    portval['strategy'].pct_change(1)\n",
        "    dr  =   dr.iloc[1:]\n",
        "    rf  =   .06\n",
        "    td  =   252\n",
        "    ex_dr   =   dr-rf/td\n",
        "    l   =   math.sqrt(td)\n",
        "    m   =   stat.mean(ex_dr)\n",
        "    o   =   stat.stdev(ex_dr)\n",
        "    sharpe  =   l*m/o\n",
        "    print(sharpe)\n",
        "    return portval\n",
        "    cr=empyrical.cum_returns(dr)\n",
        "    print(\"Maximum Draw Down :\"+str(empyrical.max_drawdown(dr)))\n",
        "    print(\"Annual Returns: \"+str(empyrical.annual_return(dr, period='daily', annualization=None)))\n",
        "    print(\"CAGR : \"+str(empyrical.cagr(dr, period='daily', annualization=None)))\n",
        "    print(\"Sharpe Ratio : \"+str(empyrical.sharpe_ratio(dr, risk_free=0.06/252)))\n",
        "    print(\"Tail Ratio : \"+str(empyrical.tail_ratio(dr)))\n",
        "    print(\"Time Series Stability : \"+str(empyrical.stability_of_timeseries(dr)))\n",
        "    print(\"Sortino Ration: \"+str(empyrical.sortino_ratio(dr, required_return=10)))\n",
        "    \n",
        "\n",
        "res = backtest_strategy(prices = prices, symbol_trade = 'SPY', symbol_volatility = '^VIX', volatility_threshold = 20, capital = 10000, symbol_benchmark = '^GSPC')\n",
        "print(res)\n",
        "#print(prices)"
      ],
      "execution_count": 18,
      "outputs": [
        {
          "output_type": "stream",
          "text": [
            "Requirement already satisfied: empyrical in /usr/local/lib/python3.6/dist-packages (0.5.3)\n",
            "Requirement already satisfied: pandas>=0.16.1 in /usr/local/lib/python3.6/dist-packages (from empyrical) (1.0.5)\n",
            "Requirement already satisfied: scipy>=0.15.1 in /usr/local/lib/python3.6/dist-packages (from empyrical) (1.4.1)\n",
            "Requirement already satisfied: pandas-datareader>=0.2 in /usr/local/lib/python3.6/dist-packages (from empyrical) (0.8.1)\n",
            "Requirement already satisfied: numpy>=1.9.2 in /usr/local/lib/python3.6/dist-packages (from empyrical) (1.18.5)\n",
            "Requirement already satisfied: python-dateutil>=2.6.1 in /usr/local/lib/python3.6/dist-packages (from pandas>=0.16.1->empyrical) (2.8.1)\n",
            "Requirement already satisfied: pytz>=2017.2 in /usr/local/lib/python3.6/dist-packages (from pandas>=0.16.1->empyrical) (2018.9)\n",
            "Requirement already satisfied: lxml in /usr/local/lib/python3.6/dist-packages (from pandas-datareader>=0.2->empyrical) (4.2.6)\n",
            "Requirement already satisfied: requests>=2.3.0 in /usr/local/lib/python3.6/dist-packages (from pandas-datareader>=0.2->empyrical) (2.23.0)\n",
            "Requirement already satisfied: six>=1.5 in /usr/local/lib/python3.6/dist-packages (from python-dateutil>=2.6.1->pandas>=0.16.1->empyrical) (1.12.0)\n",
            "Requirement already satisfied: idna<3,>=2.5 in /usr/local/lib/python3.6/dist-packages (from requests>=2.3.0->pandas-datareader>=0.2->empyrical) (2.9)\n",
            "Requirement already satisfied: certifi>=2017.4.17 in /usr/local/lib/python3.6/dist-packages (from requests>=2.3.0->pandas-datareader>=0.2->empyrical) (2020.6.20)\n",
            "Requirement already satisfied: urllib3!=1.25.0,!=1.25.1,<1.26,>=1.21.1 in /usr/local/lib/python3.6/dist-packages (from requests>=2.3.0->pandas-datareader>=0.2->empyrical) (1.24.3)\n",
            "Requirement already satisfied: chardet<4,>=3.0.2 in /usr/local/lib/python3.6/dist-packages (from requests>=2.3.0->pandas-datareader>=0.2->empyrical) (3.0.4)\n"
          ],
          "name": "stdout"
        },
        {
          "output_type": "stream",
          "text": [
            "/usr/local/lib/python3.6/dist-packages/ipykernel_launcher.py:10: FutureWarning: The pandas.datetime class is deprecated and will be removed from pandas in a future version. Import from datetime instead.\n",
            "  # Remove the CWD from sys.path while we load stuff.\n"
          ],
          "name": "stderr"
        },
        {
          "output_type": "stream",
          "text": [
            "-0.24169436386194387\n",
            "            strategy  benchmark\n",
            "date                           \n",
            "2000-01-03  1.000000   1.000000\n",
            "2000-01-04  1.000000   0.961655\n",
            "2000-01-05  1.000000   0.963504\n",
            "2000-01-06  1.000000   0.964425\n",
            "2000-01-07  1.000000   0.990551\n",
            "...              ...        ...\n",
            "2020-06-29  2.001701   2.098130\n",
            "2020-06-30  2.001701   2.130461\n",
            "2020-07-01  2.001701   2.141161\n",
            "2020-07-02  2.001701   2.150884\n",
            "2020-07-06  2.001701   2.185044\n",
            "\n",
            "[5159 rows x 2 columns]\n"
          ],
          "name": "stdout"
        }
      ]
    }
  ]
}