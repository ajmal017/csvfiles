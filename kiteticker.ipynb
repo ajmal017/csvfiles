{
  "nbformat": 4,
  "nbformat_minor": 0,
  "metadata": {
    "colab": {
      "name": "kiteticker.ipynb",
      "provenance": [],
      "authorship_tag": "ABX9TyN73bXHeOQ5K3AWDz1aIb3x",
      "include_colab_link": true
    },
    "kernelspec": {
      "name": "python3",
      "display_name": "Python 3"
    }
  },
  "cells": [
    {
      "cell_type": "markdown",
      "metadata": {
        "id": "view-in-github",
        "colab_type": "text"
      },
      "source": [
        "<a href=\"https://colab.research.google.com/github/animalran/csvfiles/blob/master/kiteticker.ipynb\" target=\"_parent\"><img src=\"https://colab.research.google.com/assets/colab-badge.svg\" alt=\"Open In Colab\"/></a>"
      ]
    },
    {
      "cell_type": "code",
      "metadata": {
        "id": "KxNzWeSR_u3X",
        "colab_type": "code",
        "colab": {}
      },
      "source": [
        "!pip install kiteconnect\n"
      ],
      "execution_count": null,
      "outputs": []
    },
    {
      "cell_type": "code",
      "metadata": {
        "id": "Yiy8uAaZ_08n",
        "colab_type": "code",
        "colab": {
          "base_uri": "https://localhost:8080/",
          "height": 1000
        },
        "outputId": "885d859c-c9cc-460a-e51a-81ae2bc0ce9f"
      },
      "source": [
        "# \n",
        "from kiteconnect import KiteConnect\n",
        "#import yfinance as yf\n",
        "import pandas as pd\n",
        "import time\n",
        "from kiteconnect import KiteTicker\n",
        "\n",
        "api_key = \"xrx73105w50h5g25\"\n",
        "api_secret  = \"4zk0dp6i1p03ji4haxrw44buh9hn5v27\"\n",
        "access_token=\"URSuDajw0CgqXnPmA4emhA2MpjIOhDR7\"\n",
        "#request_token=\"zT08SYPpRhPcjtG37MZy31FOQzAF1cDx\"\n",
        "\n",
        "kite = KiteConnect(api_key=api_key)\n",
        "kite.set_access_token(access_token)\n",
        "#data = kite.generate_session(request_token,api_secret=api_secret)\n",
        "#print(data)\n",
        "\n",
        "kws = KiteTicker(api_key,access_token)\n",
        "\n",
        "tokens=[260105,263433]#,54123271]\n",
        "dict={260105:'NIFTY BANK',263433:'NIFTY AUTO'}#,54123271:'GOLDM18OCTFUT'}\n",
        "def on_ticks(ws, ticks):\n",
        "        ticks=[dict[ticks[0]['instrument_token']],ticks[0]['timestamp'],ticks[0]['last_price']]\n",
        "        print(ticks)\n",
        "     \n",
        "def on_connect(ws, response):\n",
        "    ws.subscribe(tokens)\n",
        "    ws.set_mode(ws.MODE_FULL,tokens)\n",
        "\n",
        "\n",
        "kws.on_ticks = on_ticks\n",
        "kws.on_connect = on_connect\n",
        "kws.connect(threaded=True)\n",
        "count=0\n",
        "while True:\n",
        "        count+=1\n",
        "        if(count%2==0):\n",
        "                if kws.is_connected():\n",
        "                        kws.set_mode(kws.MODE_FULL,tokens)\n",
        "                else:\n",
        "                        if kws.is_connected():\n",
        "                                kws.set_mode(kws.MODE_FULL,tokens)\n",
        "                time.sleep(0.350)"
      ],
      "execution_count": null,
      "outputs": [
        {
          "output_type": "stream",
          "text": [
            "['NIFTY AUTO', datetime.datetime(2020, 7, 14, 6, 26, 56), 6940.2]\n",
            "['NIFTY BANK', datetime.datetime(2020, 7, 14, 6, 26, 55), 21483.7]\n",
            "['NIFTY AUTO', datetime.datetime(2020, 7, 14, 6, 26, 57), 6940.3]\n",
            "['NIFTY BANK', datetime.datetime(2020, 7, 14, 6, 26, 57), 21485.95]\n",
            "['NIFTY AUTO', datetime.datetime(2020, 7, 14, 6, 26, 58), 6940.9]\n",
            "['NIFTY BANK', datetime.datetime(2020, 7, 14, 6, 26, 59), 21485.0]\n",
            "['NIFTY AUTO', datetime.datetime(2020, 7, 14, 6, 26, 59), 6940.75]\n",
            "['NIFTY AUTO', datetime.datetime(2020, 7, 14, 6, 26, 59), 6940.75]\n",
            "['NIFTY AUTO', datetime.datetime(2020, 7, 14, 6, 26, 59), 6940.75]\n",
            "['NIFTY AUTO', datetime.datetime(2020, 7, 14, 6, 27, 1), 6940.85]\n",
            "['NIFTY AUTO', datetime.datetime(2020, 7, 14, 6, 27, 2), 6940.6]\n",
            "['NIFTY AUTO', datetime.datetime(2020, 7, 14, 6, 27, 2), 6940.6]\n",
            "['NIFTY BANK', datetime.datetime(2020, 7, 14, 6, 27, 3), 21491.45]\n",
            "['NIFTY AUTO', datetime.datetime(2020, 7, 14, 6, 27, 3), 6941.0]\n",
            "['NIFTY BANK', datetime.datetime(2020, 7, 14, 6, 27, 4), 21490.8]\n",
            "['NIFTY AUTO', datetime.datetime(2020, 7, 14, 6, 27, 5), 6940.95]\n",
            "['NIFTY AUTO', datetime.datetime(2020, 7, 14, 6, 27, 5), 6940.95]\n",
            "['NIFTY AUTO', datetime.datetime(2020, 7, 14, 6, 27, 6), 6940.55]\n",
            "['NIFTY AUTO', datetime.datetime(2020, 7, 14, 6, 27, 6), 6940.55]\n",
            "['NIFTY AUTO', datetime.datetime(2020, 7, 14, 6, 27, 7), 6941.05]\n",
            "['NIFTY AUTO', datetime.datetime(2020, 7, 14, 6, 27, 7), 6941.05]\n",
            "['NIFTY AUTO', datetime.datetime(2020, 7, 14, 6, 27, 7), 6941.05]\n",
            "['NIFTY AUTO', datetime.datetime(2020, 7, 14, 6, 27, 9), 6941.2]\n",
            "['NIFTY AUTO', datetime.datetime(2020, 7, 14, 6, 27, 9), 6941.2]\n",
            "['NIFTY AUTO', datetime.datetime(2020, 7, 14, 6, 27, 10), 6941.7]\n",
            "['NIFTY AUTO', datetime.datetime(2020, 7, 14, 6, 27, 11), 6940.7]\n",
            "['NIFTY AUTO', datetime.datetime(2020, 7, 14, 6, 27, 11), 6940.7]\n",
            "['NIFTY AUTO', datetime.datetime(2020, 7, 14, 6, 27, 12), 6940.8]\n",
            "['NIFTY AUTO', datetime.datetime(2020, 7, 14, 6, 27, 12), 6940.8]\n",
            "['NIFTY AUTO', datetime.datetime(2020, 7, 14, 6, 27, 13), 6940.65]\n",
            "['NIFTY AUTO', datetime.datetime(2020, 7, 14, 6, 27, 14), 6940.35]\n",
            "['NIFTY AUTO', datetime.datetime(2020, 7, 14, 6, 27, 14), 6940.35]\n",
            "['NIFTY AUTO', datetime.datetime(2020, 7, 14, 6, 27, 14), 6940.35]\n",
            "['NIFTY AUTO', datetime.datetime(2020, 7, 14, 6, 27, 14), 6940.35]\n",
            "['NIFTY AUTO', datetime.datetime(2020, 7, 14, 6, 27, 14), 6940.35]\n",
            "['NIFTY AUTO', datetime.datetime(2020, 7, 14, 6, 27, 17), 6940.35]\n",
            "['NIFTY AUTO', datetime.datetime(2020, 7, 14, 6, 27, 17), 6940.35]\n",
            "['NIFTY AUTO', datetime.datetime(2020, 7, 14, 6, 27, 18), 6941.45]\n",
            "['NIFTY AUTO', datetime.datetime(2020, 7, 14, 6, 27, 19), 6941.25]\n",
            "['NIFTY AUTO', datetime.datetime(2020, 7, 14, 6, 27, 19), 6941.25]\n",
            "['NIFTY BANK', datetime.datetime(2020, 7, 14, 6, 27, 20), 21491.65]\n",
            "['NIFTY BANK', datetime.datetime(2020, 7, 14, 6, 27, 20), 21491.65]\n",
            "['NIFTY AUTO', datetime.datetime(2020, 7, 14, 6, 27, 21), 6941.6]\n",
            "['NIFTY AUTO', datetime.datetime(2020, 7, 14, 6, 27, 21), 6941.6]\n",
            "['NIFTY BANK', datetime.datetime(2020, 7, 14, 6, 27, 22), 21495.1]\n",
            "['NIFTY AUTO', datetime.datetime(2020, 7, 14, 6, 27, 23), 6941.8]\n",
            "['NIFTY AUTO', datetime.datetime(2020, 7, 14, 6, 27, 23), 6941.8]\n",
            "['NIFTY BANK', datetime.datetime(2020, 7, 14, 6, 27, 23), 21492.3]\n",
            "['NIFTY AUTO', datetime.datetime(2020, 7, 14, 6, 27, 24), 6941.6]\n",
            "['NIFTY BANK', datetime.datetime(2020, 7, 14, 6, 27, 25), 21493.55]\n",
            "['NIFTY BANK', datetime.datetime(2020, 7, 14, 6, 27, 26), 21492.65]\n",
            "['NIFTY AUTO', datetime.datetime(2020, 7, 14, 6, 27, 26), 6941.1]\n",
            "['NIFTY AUTO', datetime.datetime(2020, 7, 14, 6, 27, 27), 6940.9]\n",
            "['NIFTY AUTO', datetime.datetime(2020, 7, 14, 6, 27, 27), 6940.9]\n",
            "['NIFTY AUTO', datetime.datetime(2020, 7, 14, 6, 27, 28), 6941.2]\n",
            "['NIFTY AUTO', datetime.datetime(2020, 7, 14, 6, 27, 29), 6940.75]\n",
            "['NIFTY AUTO', datetime.datetime(2020, 7, 14, 6, 27, 29), 6940.75]\n",
            "['NIFTY BANK', datetime.datetime(2020, 7, 14, 6, 27, 30), 21492.25]\n",
            "['NIFTY AUTO', datetime.datetime(2020, 7, 14, 6, 27, 30), 6940.95]\n",
            "['NIFTY AUTO', datetime.datetime(2020, 7, 14, 6, 27, 31), 6940.85]\n",
            "['NIFTY AUTO', datetime.datetime(2020, 7, 14, 6, 27, 32), 6941.15]\n",
            "['NIFTY BANK', datetime.datetime(2020, 7, 14, 6, 27, 32), 21492.7]\n",
            "['NIFTY AUTO', datetime.datetime(2020, 7, 14, 6, 27, 33), 6941.35]\n",
            "['NIFTY AUTO', datetime.datetime(2020, 7, 14, 6, 27, 33), 6941.35]\n",
            "['NIFTY BANK', datetime.datetime(2020, 7, 14, 6, 27, 34), 21493.85]\n",
            "['NIFTY AUTO', datetime.datetime(2020, 7, 14, 6, 27, 35), 6941.35]\n",
            "['NIFTY AUTO', datetime.datetime(2020, 7, 14, 6, 27, 36), 6940.95]\n",
            "['NIFTY AUTO', datetime.datetime(2020, 7, 14, 6, 27, 36), 6940.95]\n"
          ],
          "name": "stdout"
        }
      ]
    }
  ]
}