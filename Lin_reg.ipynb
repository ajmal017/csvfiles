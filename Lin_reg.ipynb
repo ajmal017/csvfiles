{
  "nbformat": 4,
  "nbformat_minor": 0,
  "metadata": {
    "colab": {
      "name": "Lin_reg.ipynb",
      "provenance": [],
      "collapsed_sections": [],
      "authorship_tag": "ABX9TyPGCFIxSsy2p37vPe1kd2/6",
      "include_colab_link": true
    },
    "kernelspec": {
      "name": "python3",
      "display_name": "Python 3"
    }
  },
  "cells": [
    {
      "cell_type": "markdown",
      "metadata": {
        "id": "view-in-github",
        "colab_type": "text"
      },
      "source": [
        "<a href=\"https://colab.research.google.com/github/animalran/csvfiles/blob/master/Lin_reg.ipynb\" target=\"_parent\"><img src=\"https://colab.research.google.com/assets/colab-badge.svg\" alt=\"Open In Colab\"/></a>"
      ]
    },
    {
      "cell_type": "code",
      "metadata": {
        "id": "EAUFdiyeYy-9",
        "colab_type": "code",
        "colab": {
          "base_uri": "https://localhost:8080/",
          "height": 433
        },
        "outputId": "9db8f19e-2650-450a-f9ae-903e948e5509"
      },
      "source": [
        "import pandas as pd  \n",
        "import numpy as np  \n",
        "import matplotlib.pyplot as plt  \n",
        "import seaborn as seabornInstance \n",
        "from sklearn.model_selection import train_test_split \n",
        "from sklearn.linear_model import LinearRegression\n",
        "from sklearn import metrics\n",
        "%matplotlib inline\n",
        "from statistics import stdev \n",
        "from statistics import variance\n",
        "from scipy import stats\n",
        "from math import sqrt\n",
        "!pip install yfinance\n",
        "from pandas import read_csv\n",
        "import statsmodels\n",
        "from statsmodels.tsa.stattools import adfuller\n",
        "from matplotlib import pyplot\n",
        "from matplotlib import pyplot as plt\n",
        "import yfinance as yf"
      ],
      "execution_count": 1,
      "outputs": [
        {
          "output_type": "stream",
          "text": [
            "/usr/local/lib/python3.6/dist-packages/statsmodels/tools/_testing.py:19: FutureWarning: pandas.util.testing is deprecated. Use the functions in the public API at pandas.testing instead.\n",
            "  import pandas.util.testing as tm\n"
          ],
          "name": "stderr"
        },
        {
          "output_type": "stream",
          "text": [
            "Collecting yfinance\n",
            "  Downloading https://files.pythonhosted.org/packages/c2/31/8b374a12b90def92a4e27d0fc595fc43635f395984e36a075244d98bd265/yfinance-0.1.54.tar.gz\n",
            "Requirement already satisfied: pandas>=0.24 in /usr/local/lib/python3.6/dist-packages (from yfinance) (1.0.3)\n",
            "Requirement already satisfied: numpy>=1.15 in /usr/local/lib/python3.6/dist-packages (from yfinance) (1.18.4)\n",
            "Requirement already satisfied: requests>=2.20 in /usr/local/lib/python3.6/dist-packages (from yfinance) (2.23.0)\n",
            "Requirement already satisfied: multitasking>=0.0.7 in /usr/local/lib/python3.6/dist-packages (from yfinance) (0.0.9)\n",
            "Requirement already satisfied: python-dateutil>=2.6.1 in /usr/local/lib/python3.6/dist-packages (from pandas>=0.24->yfinance) (2.8.1)\n",
            "Requirement already satisfied: pytz>=2017.2 in /usr/local/lib/python3.6/dist-packages (from pandas>=0.24->yfinance) (2018.9)\n",
            "Requirement already satisfied: urllib3!=1.25.0,!=1.25.1,<1.26,>=1.21.1 in /usr/local/lib/python3.6/dist-packages (from requests>=2.20->yfinance) (1.24.3)\n",
            "Requirement already satisfied: idna<3,>=2.5 in /usr/local/lib/python3.6/dist-packages (from requests>=2.20->yfinance) (2.9)\n",
            "Requirement already satisfied: certifi>=2017.4.17 in /usr/local/lib/python3.6/dist-packages (from requests>=2.20->yfinance) (2020.4.5.1)\n",
            "Requirement already satisfied: chardet<4,>=3.0.2 in /usr/local/lib/python3.6/dist-packages (from requests>=2.20->yfinance) (3.0.4)\n",
            "Requirement already satisfied: six>=1.5 in /usr/local/lib/python3.6/dist-packages (from python-dateutil>=2.6.1->pandas>=0.24->yfinance) (1.12.0)\n",
            "Building wheels for collected packages: yfinance\n",
            "  Building wheel for yfinance (setup.py) ... \u001b[?25l\u001b[?25hdone\n",
            "  Created wheel for yfinance: filename=yfinance-0.1.54-py2.py3-none-any.whl size=22409 sha256=187b97ac88f1b0b2d9d9b6261fd26c0c6bade8296f043a1b2db6fd63bf7ec1bd\n",
            "  Stored in directory: /root/.cache/pip/wheels/f9/e3/5b/ec24dd2984b12d61e0abf26289746c2436a0e7844f26f2515c\n",
            "Successfully built yfinance\n",
            "Installing collected packages: yfinance\n",
            "Successfully installed yfinance-0.1.54\n"
          ],
          "name": "stdout"
        }
      ]
    },
    {
      "cell_type": "code",
      "metadata": {
        "id": "SHnfu99CZHFR",
        "colab_type": "code",
        "colab": {}
      },
      "source": [
        "symbol1 =[\"HDFCBANK.NS\",\"TCS.NS\"]\n",
        "symbol2 =[\"SBIN.NS\",\"INFY.NS\"]"
      ],
      "execution_count": 0,
      "outputs": []
    },
    {
      "cell_type": "code",
      "metadata": {
        "id": "WZwXHdwFZXLV",
        "colab_type": "code",
        "colab": {
          "base_uri": "https://localhost:8080/",
          "height": 1000
        },
        "outputId": "4d6fed36-bcd7-4ad9-d84d-14b014727584"
      },
      "source": [
        "def line(p,q):\n",
        "    stock1 = yf.Ticker(p)    \n",
        "    stock2 = yf.Ticker(q)    \n",
        "    hist1 = stock1.history(period=\"246d\")\n",
        "    hist2 = stock2.history(period=\"246d\")\n",
        "    data1=hist1[\"Close\"]\n",
        "    data2=hist2[\"Close\"]\n",
        "    x=data1.values.reshape(-1,1)\n",
        "    y=data2.values.reshape(-1,1)\n",
        "    reg1=LinearRegression().fit(x,y)# linear regression\n",
        "    reg2=LinearRegression().fit(y,x)\n",
        "    intercept1=reg1.intercept_\n",
        "    intercept2=reg2.intercept_\n",
        "    #print('Intercept 1:',reg1.intercept_)\n",
        "    #print('Intercept 2:',reg2.intercept_)\n",
        "    #print(reg2.intercept_)\n",
        "    #For retrieving the slope:\n",
        "    slope1=reg1.coef_\n",
        "    slope2=reg2.coef_\n",
        "    #print('Slope 1:',reg1.coef_)\n",
        "    #print('Slope 2:',reg2.coef_)\n",
        "    #print(reg2.coef_)\n",
        "    y_pred = reg1.predict(x)\n",
        "    x_pred = reg2.predict(y)\n",
        "    # compair actual output and predicted values\n",
        "    df1 = pd.DataFrame({'Actual': y.flatten(), 'Predicted': y_pred.flatten()})\n",
        "    df2 = pd.DataFrame({'Actual': x.flatten(), 'Predicted': x_pred.flatten()})\n",
        "    residuals1=y-y_pred\n",
        "    residuals2=x-x_pred\n",
        "    res1_1D=residuals1.flatten()\n",
        "    res2_1D=residuals2.flatten()\n",
        "    res1=pd.Series(res1_1D)\n",
        "    res2=pd.Series(res2_1D)\n",
        "    mx=x.mean()\n",
        "    my=y.mean()\n",
        "    sx2 = ((x-mx)**2).sum()\n",
        "    sy2 = ((y-my)**2).sum()\n",
        "    er_ratio1 = sqrt(1./len(x) + mx*mx/sx2)\n",
        "    er_ratio2 = sqrt(1./len(y) + my*my/sy2)\n",
        "    print('error ratio1:',er_ratio1)\n",
        "    print('error ratio2:',er_ratio2)\n",
        "    def res(x,y):\n",
        "        if (x<y):\n",
        "            r=res1\n",
        "            return(r)\n",
        "        if (x>y):\n",
        "            r=res2\n",
        "            return(r)\n",
        "    r=res(er_ratio1,er_ratio2)\n",
        "    #if (er_ratio1<er_ratio2):\n",
        "        #return res1 as r\n",
        "    #elif():\n",
        "        #return res2 as r\n",
        "    #sd_intercept = see * sqrt(1./len(x) + mx*mx/sx2)\n",
        "    #sd_slope = see * sqrt(1./sx2)\n",
        "    #see??= std_error\n",
        "    #type(residuals2)\n",
        "    sigma=stdev(r)\n",
        "    si=round(sigma,3)\n",
        "    std_err=r[244]/sigma\n",
        "    st_er=round(std_err,3)\n",
        "    #print(std_err)\n",
        "    res1.hist()\n",
        "    plt.show()\n",
        "    p_value = r.values\n",
        "    result = adfuller(p_value)\n",
        "    #print('ADF Statistic: %f' % result[0])\n",
        "    #print('p-value: %f' % result[1])\n",
        "    #print('Critical Values:')\n",
        "    #for key, value in result[4].items():\n",
        "\t    #print('\\t%s: %.3f' % (key, value))\n",
        "    result[1]\n",
        "    pv= round(result[1],3)\n",
        "    sheet=[[q,p,pv,st_er,si]]\n",
        "    df = pd.DataFrame(sheet, columns = ['ystock','xstock','pvalue','std_err','sigma'])\n",
        "    print(df)\n",
        "for a in symbol1:\n",
        "  for b in symbol2:\n",
        "      asdf=line(a,b)\n",
        "      asdf\n",
        "    "
      ],
      "execution_count": 37,
      "outputs": [
        {
          "output_type": "stream",
          "text": [
            "error ratio1: 0.61285644669717\n",
            "error ratio2: 0.35658571892154656\n"
          ],
          "name": "stdout"
        },
        {
          "output_type": "display_data",
          "data": {
            "image/png": "[encoded data removed]",
            "text/plain": [
              "<Figure size 432x288 with 1 Axes>"
            ]
          },
          "metadata": {
            "tags": [],
            "needs_background": "light"
          }
        },
        {
          "output_type": "stream",
          "text": [
            "    ystock       xstock  pvalue  std_err   sigma\n",
            "0  SBIN.NS  HDFCBANK.NS   0.173    0.042  66.581\n",
            "error ratio1: 0.61285644669717\n",
            "error ratio2: 0.8222362612800833\n"
          ],
          "name": "stdout"
        },
        {
          "output_type": "display_data",
          "data": {
            "image/png": "[encoded data removed]",
            "text/plain": [
              "<Figure size 432x288 with 1 Axes>"
            ]
          },
          "metadata": {
            "tags": [],
            "needs_background": "light"
          }
        },
        {
          "output_type": "stream",
          "text": [
            "    ystock       xstock  pvalue  std_err   sigma\n",
            "0  INFY.NS  HDFCBANK.NS   0.154    0.442  47.197\n",
            "error ratio1: 0.9295095349926039\n",
            "error ratio2: 0.35658571892154656\n"
          ],
          "name": "stdout"
        },
        {
          "output_type": "display_data",
          "data": {
            "image/png": "[encoded data removed]",
            "text/plain": [
              "<Figure size 432x288 with 1 Axes>"
            ]
          },
          "metadata": {
            "tags": [],
            "needs_background": "light"
          }
        },
        {
          "output_type": "stream",
          "text": [
            "    ystock  xstock  pvalue  std_err   sigma\n",
            "0  SBIN.NS  TCS.NS   0.021    1.342  93.441\n",
            "error ratio1: 0.9295095349926039\n",
            "error ratio2: 0.8222362612800833\n"
          ],
          "name": "stdout"
        },
        {
          "output_type": "display_data",
          "data": {
            "image/png": "[encoded data removed]",
            "text/plain": [
              "<Figure size 432x288 with 1 Axes>"
            ]
          },
          "metadata": {
            "tags": [],
            "needs_background": "light"
          }
        },
        {
          "output_type": "stream",
          "text": [
            "    ystock  xstock  pvalue  std_err   sigma\n",
            "0  INFY.NS  TCS.NS   0.072   -0.615  99.308\n"
          ],
          "name": "stdout"
        }
      ]
    }
  ]
}