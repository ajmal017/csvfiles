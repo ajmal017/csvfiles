{
  "nbformat": 4,
  "nbformat_minor": 0,
  "metadata": {
    "colab": {
      "name": "Lin_reg.ipynb",
      "provenance": [],
      "collapsed_sections": [],
      "authorship_tag": "ABX9TyPtoPRWPEEtNYBU05mmuEyp",
      "include_colab_link": true
    },
    "kernelspec": {
      "name": "python3",
      "display_name": "Python 3"
    }
  },
  "cells": [
    {
      "cell_type": "markdown",
      "metadata": {
        "id": "view-in-github",
        "colab_type": "text"
      },
      "source": [
        "<a href=\"https://colab.research.google.com/github/animalran/csvfiles/blob/master/Lin_reg.ipynb\" target=\"_parent\"><img src=\"https://colab.research.google.com/assets/colab-badge.svg\" alt=\"Open In Colab\"/></a>"
      ]
    },
    {
      "cell_type": "code",
      "metadata": {
        "id": "EAUFdiyeYy-9",
        "colab_type": "code",
        "colab": {}
      },
      "source": [
        "import pandas as pd  \n",
        "import numpy as np  \n",
        "import matplotlib.pyplot as plt  \n",
        "import seaborn as seabornInstance \n",
        "from sklearn.model_selection import train_test_split \n",
        "from sklearn.linear_model import LinearRegression\n",
        "from sklearn import metrics\n",
        "%matplotlib inline\n",
        "from statistics import stdev \n",
        "from statistics import variance\n",
        "from scipy import stats\n",
        "from math import sqrt\n",
        "!pip install yfinance\n",
        "from pandas import read_csv\n",
        "import statsmodels\n",
        "from statsmodels.tsa.stattools import adfuller\n",
        "from matplotlib import pyplot\n",
        "from matplotlib import pyplot as plt\n",
        "import yfinance as yf"
      ],
      "execution_count": 0,
      "outputs": []
    },
    {
      "cell_type": "code",
      "metadata": {
        "id": "OsG8vPbz-OOW",
        "colab_type": "code",
        "colab": {}
      },
      "source": [
        "symbol1=[\"SBIN.NS\"]\n",
        "#symbol2=[\"M&MFIN.NS\",\"CHOLAFIN.NS\",\"ICICIPRULI.NS\",\"IBULHSGFIN.NS\",\"BAJFINANCE.NS\",\"SRTRANSFIN.NS\",\"HDFCLIFE.NS\",\"SBILIFE.NS\",\"RECLTD.NS\",\"BAJAJFINSV.NS\",\"BAJAJHLDNG.NS\",\"ICICIGI.NS\",\"PFC.NS\",\"EDELWEISS.NS\"]\n",
        "symbol2=[\"HDFCBANK.NS\",\"HDFC.NS\",\"RBLBANK.NS\",\"BANDHANBNK.NS\",\"ICICIBANK.NS\",\"FEDERALBNK.NS\",\"INDUSINDBK.NS\",\"AXISBANK.NS\",\"PNB.NS\",\"KOTAKBANK.NS\",\"BANKBARODA.NS\"]\n",
        "#symbol2=[\"AUROPHARMA.NS\",\"GLENMARK.NS\",\"PEL.NS\",\"BIOCON.NS\",\"DIVISLAB.NS\",\"LUPIN.NS\",\"CADILAHC.NS\",\"SUNPHARMA.NS\",\"DRREDDY.NS\",\"CIPLA.NS\"]"
      ],
      "execution_count": 0,
      "outputs": []
    },
    {
      "cell_type": "code",
      "metadata": {
        "id": "WZwXHdwFZXLV",
        "colab_type": "code",
        "colab": {
          "base_uri": "https://localhost:8080/",
          "height": 413
        },
        "outputId": "3385dcac-90de-4ec0-9949-49a04ec6817d"
      },
      "source": [
        "def line(p,q):\n",
        "    stock1 = yf.Ticker(p)    \n",
        "    stock2 = yf.Ticker(q)    \n",
        "    hist1 = stock1.history(period=\"246d\")\n",
        "    hist2 = stock2.history(period=\"246d\")\n",
        "    data1=hist1[\"Close\"]\n",
        "    data2=hist2[\"Close\"]\n",
        "    x=data1.values.reshape(-1,1)\n",
        "    y=data2.values.reshape(-1,1)\n",
        "    reg1=LinearRegression().fit(x,y)# linear regression\n",
        "    reg2=LinearRegression().fit(y,x)\n",
        "    intercept1=reg1.intercept_\n",
        "    intercept2=reg2.intercept_\n",
        "    #print('Intercept 1:',reg1.intercept_)\n",
        "    #print('Intercept 2:',reg2.intercept_)\n",
        "    #print(reg2.intercept_)\n",
        "    #For retrieving the slope:\n",
        "    slope1=reg1.coef_\n",
        "    slope2=reg2.coef_\n",
        "    #print('Slope 1:',reg1.coef_)\n",
        "    #print('Slope 2:',reg2.coef_)\n",
        "    #print(reg2.coef_)\n",
        "    y_pred = reg1.predict(x)\n",
        "    x_pred = reg2.predict(y)\n",
        "    # compair actual output and predicted values\n",
        "    df1 = pd.DataFrame({'Actual': y.flatten(), 'Predicted': y_pred.flatten()})\n",
        "    df2 = pd.DataFrame({'Actual': x.flatten(), 'Predicted': x_pred.flatten()})\n",
        "    residuals1=y-y_pred\n",
        "    residuals2=x-x_pred\n",
        "    res1_1D=residuals1.flatten()\n",
        "    res2_1D=residuals2.flatten()\n",
        "    res1=pd.Series(res1_1D)\n",
        "    res2=pd.Series(res2_1D)\n",
        "    mx=x.mean()\n",
        "    my=y.mean()\n",
        "    sx2 = ((x-mx)**2).sum()\n",
        "    sy2 = ((y-my)**2).sum()\n",
        "    er_ratio1 = sqrt(1./len(x) + mx*mx/sx2)\n",
        "    er_ratio2 = sqrt(1./len(y) + my*my/sy2)\n",
        "    #print('error ratio1:',er_ratio1)\n",
        "    #print('error ratio2:',er_ratio2)\n",
        "    def res(x,y):\n",
        "        if (x<y):\n",
        "            r=res1\n",
        "            return(r)\n",
        "        if (x>y):\n",
        "            r=res2\n",
        "            return(r)\n",
        "    r=res(er_ratio1,er_ratio2)\n",
        "     #if (er_ratio1<er_ratio2):\n",
        "        #return res1 as r\n",
        "    #elif():\n",
        "        #return res2 as r\n",
        "    #sd_intercept = see * sqrt(1./len(x) + mx*mx/sx2)\n",
        "    #sd_slope = see * sqrt(1./sx2)\n",
        "    #see??= std_error\n",
        "    #type(residuals2)\n",
        "    sigma=stdev(r)\n",
        "    si=round(sigma,3)\n",
        "    std_err=r[244]/sigma\n",
        "    st_er=round(std_err,3)\n",
        "    #print(std_err)\n",
        "    #res1.hist()\n",
        "    #plt.show()\n",
        "    p_value = r.values\n",
        "    result = adfuller(p_value)\n",
        "    #print('ADF Statistic: %f' % result[0])\n",
        "    #print('p-value: %f' % result[1])\n",
        "    #print('Critical Values:')\n",
        "    #for key, value in result[4].items():\n",
        "\t    #print('\\t%s: %.3f' % (key, value))\n",
        "    result[1]\n",
        "    pv= round(result[1],3)\n",
        "    sheet=[[q,p,pv,st_er,si,er_ratio1,er_ratio2]]\n",
        "    df = pd.DataFrame(sheet, columns = ['ystock','xstock','pvalue','std_err','sigma','er1','er2'])\n",
        "    print(df)\n",
        "for a in symbol1:\n",
        "  for b in symbol2:\n",
        "      asdf=line(a,b)\n",
        "      asdf\n",
        "    "
      ],
      "execution_count": 61,
      "outputs": [
        {
          "output_type": "stream",
          "text": [
            "        ystock   xstock  pvalue  std_err   sigma       er1       er2\n",
            "0  HDFCBANK.NS  SBIN.NS   0.173    0.042  66.581  0.356586  0.612856\n",
            "    ystock   xstock  pvalue  std_err    sigma       er1       er2\n",
            "0  HDFC.NS  SBIN.NS   0.353    0.049  136.126  0.356586  0.574023\n",
            "       ystock   xstock  pvalue  std_err   sigma       er1       er2\n",
            "0  RBLBANK.NS  SBIN.NS   0.661   -1.947  32.853  0.356586  0.160049\n",
            "          ystock   xstock  pvalue  std_err   sigma       er1       er2\n",
            "0  BANDHANBNK.NS  SBIN.NS   0.244   -1.522  29.158  0.356586  0.259892\n",
            "         ystock   xstock  pvalue  std_err  sigma       er1       er2\n",
            "0  ICICIBANK.NS  SBIN.NS   0.484   -0.412  53.16  0.356586  0.423547\n",
            "          ystock   xstock  pvalue  std_err   sigma       er1       er2\n",
            "0  FEDERALBNK.NS  SBIN.NS   0.104   -0.919  19.208  0.356586  0.301767\n",
            "          ystock   xstock  pvalue  std_err   sigma       er1       er2\n",
            "0  INDUSINDBK.NS  SBIN.NS   0.229   -0.998  23.382  0.356586  0.226395\n",
            "        ystock   xstock  pvalue  std_err   sigma       er1       er2\n",
            "0  AXISBANK.NS  SBIN.NS   0.008   -0.421  40.957  0.356586  0.357881\n",
            "   ystock   xstock  pvalue  std_err   sigma       er1       er2\n",
            "0  PNB.NS  SBIN.NS   0.121   -1.203  27.015  0.356586  0.264756\n",
            "         ystock   xstock  pvalue  std_err    sigma       er1       er2\n",
            "0  KOTAKBANK.NS  SBIN.NS    0.32   -0.856  107.182  0.356586  0.668938\n",
            "          ystock   xstock  pvalue  std_err   sigma       er1       er2\n",
            "0  BANKBARODA.NS  SBIN.NS   0.163    -0.74  22.555  0.356586  0.271773\n"
          ],
          "name": "stdout"
        }
      ]
    }
  ]
}