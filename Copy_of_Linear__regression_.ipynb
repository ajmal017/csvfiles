{
  "nbformat": 4,
  "nbformat_minor": 0,
  "metadata": {
    "colab": {
      "name": "Copy of Linear_ regression .ipynb",
      "provenance": [],
      "collapsed_sections": [],
      "authorship_tag": "ABX9TyMvLnbLPYSts/BpLMgKSnmQ",
      "include_colab_link": true
    },
    "kernelspec": {
      "name": "python3",
      "display_name": "Python 3"
    }
  },
  "cells": [
    {
      "cell_type": "markdown",
      "metadata": {
        "id": "view-in-github",
        "colab_type": "text"
      },
      "source": [
        "<a href=\"https://colab.research.google.com/github/animalran/csvfiles/blob/master/Copy_of_Linear__regression_.ipynb\" target=\"_parent\"><img src=\"https://colab.research.google.com/assets/colab-badge.svg\" alt=\"Open In Colab\"/></a>"
      ]
    },
    {
      "cell_type": "code",
      "metadata": {
        "id": "zBvaGXtrrOX-",
        "colab_type": "code",
        "colab": {}
      },
      "source": [
        "import pandas as pd  \n",
        "import numpy as np  \n",
        "import matplotlib.pyplot as plt  \n",
        "import seaborn as seabornInstance \n",
        "from sklearn.model_selection import train_test_split \n",
        "from sklearn.linear_model import LinearRegression\n",
        "from sklearn import metrics\n",
        "%matplotlib inline\n",
        "from statistics import stdev \n",
        "from statistics import variance\n",
        "from scipy import stats\n",
        "from math import sqrt\n",
        "#!pip install yfinance"
      ],
      "execution_count": 0,
      "outputs": []
    },
    {
      "cell_type": "code",
      "metadata": {
        "id": "Qn30SwaWeCny",
        "colab_type": "code",
        "colab": {}
      },
      "source": [
        "from pandas import read_csv\n",
        "import statsmodels\n",
        "from statsmodels.tsa.stattools import adfuller\n",
        "from matplotlib import pyplot\n",
        "from matplotlib import pyplot as plt\n",
        "import yfinance as yf"
      ],
      "execution_count": 0,
      "outputs": []
    },
    {
      "cell_type": "code",
      "metadata": {
        "id": "dT5G0tHDK4_f",
        "colab_type": "code",
        "colab": {}
      },
      "source": [
        "symbol1 =\"HDFCBANK.NS\"\n",
        "symbol2 =\"SBIN.NS\""
      ],
      "execution_count": 0,
      "outputs": []
    },
    {
      "cell_type": "code",
      "metadata": {
        "id": "T9rYg5X8KAng",
        "colab_type": "code",
        "colab": {}
      },
      "source": [
        "stock1 = yf.Ticker(symbol1)    \n",
        "stock2 = yf.Ticker(symbol2)    \n",
        "hist1 = stock1.history(period=\"246d\")\n",
        "hist2 = stock2.history(period=\"246d\")"
      ],
      "execution_count": 0,
      "outputs": []
    },
    {
      "cell_type": "code",
      "metadata": {
        "id": "_wWNmB-lOqDN",
        "colab_type": "code",
        "colab": {}
      },
      "source": [
        "#symbol1=\"HDFCBANK\"\n",
        "#symbol2=\"HDFC\""
      ],
      "execution_count": 0,
      "outputs": []
    },
    {
      "cell_type": "code",
      "metadata": {
        "id": "JPjQyJ0SQHmJ",
        "colab_type": "code",
        "colab": {}
      },
      "source": [
        "#urla=\"https://raw.githubusercontent.com/animalran/csvfiles/master/\"\n",
        "#urlb=\"EQN.csv\"\n",
        "#url1=urla+symbol1+urlb\n",
        "#url2=urla+symbol2+urlb"
      ],
      "execution_count": 0,
      "outputs": []
    },
    {
      "cell_type": "code",
      "metadata": {
        "id": "n2JQKFOrroB-",
        "colab_type": "code",
        "colab": {}
      },
      "source": [
        "#dataset1=pd.read_csv(url1)\n",
        "#dataset2=pd.read_csv(url2)\n",
        "#dataset2.shape"
      ],
      "execution_count": 0,
      "outputs": []
    },
    {
      "cell_type": "code",
      "metadata": {
        "id": "fjRTrfr2sGYc",
        "colab_type": "code",
        "colab": {}
      },
      "source": [
        "#dataset2.describe()"
      ],
      "execution_count": 0,
      "outputs": []
    },
    {
      "cell_type": "code",
      "metadata": {
        "id": "vdosI6REtD_c",
        "colab_type": "code",
        "colab": {}
      },
      "source": [
        "#data1=dataset1['Close Price']\n",
        "#data2=dataset2['Close Price']\n",
        "data1=hist1[\"Close\"]\n",
        "data2=hist2[\"Close\"]"
      ],
      "execution_count": 0,
      "outputs": []
    },
    {
      "cell_type": "code",
      "metadata": {
        "id": "qZA5bUwnuxaN",
        "colab_type": "code",
        "colab": {}
      },
      "source": [
        "x=data1.values.reshape(-1,1)\n",
        "y=data2.values.reshape(-1,1)"
      ],
      "execution_count": 0,
      "outputs": []
    },
    {
      "cell_type": "code",
      "metadata": {
        "id": "sXJPwLZU0b3a",
        "colab_type": "code",
        "colab": {}
      },
      "source": [
        "# training data 80%; test 20%\n",
        "#x_train, x_test, y_train, y_test = train_test_split(x, y, test_size=0.2, random_state=0)"
      ],
      "execution_count": 0,
      "outputs": []
    },
    {
      "cell_type": "code",
      "metadata": {
        "id": "6p9wwDGtwBXb",
        "colab_type": "code",
        "colab": {}
      },
      "source": [
        "#regressor = LinearRegression()\n",
        "reg1=LinearRegression().fit(x,y)# linear regression\n",
        "reg2=LinearRegression().fit(y,x)\n",
        "#reg2=LinearRegression().fit(y_train,x_train)#reversing the dependent and independent variables"
      ],
      "execution_count": 0,
      "outputs": []
    },
    {
      "cell_type": "code",
      "metadata": {
        "id": "tm_i1xyJwmPY",
        "colab_type": "code",
        "outputId": "bb198eb9-8611-4ea2-9295-ab29fa8abfd5",
        "colab": {
          "base_uri": "https://localhost:8080/",
          "height": 107
        }
      },
      "source": [
        "#To retrieve the intercept:\n",
        "intercept1=reg1.intercept_\n",
        "intercept2=reg2.intercept_\n",
        "print('Intercept 1:',reg1.intercept_)\n",
        "print('Intercept 2:',reg2.intercept_)\n",
        "#print(reg2.intercept_)\n",
        "#For retrieving the slope:\n",
        "slope1=reg1.coef_\n",
        "slope2=reg2.coef_\n",
        "print('Slope 1:',reg1.coef_)\n",
        "print('Slope 2:',reg2.coef_)\n",
        "#print(reg2.coef_)\n",
        "intercept1"
      ],
      "execution_count": 161,
      "outputs": [
        {
          "output_type": "stream",
          "text": [
            "Intercept 1: [-135.35519479]\n",
            "Intercept 2: [602.25751162]\n",
            "Slope 1: [[0.37224721]]\n",
            "Slope 2: [[1.88190682]]\n"
          ],
          "name": "stdout"
        },
        {
          "output_type": "execute_result",
          "data": {
            "text/plain": [
              "array([-135.35519479])"
            ]
          },
          "metadata": {
            "tags": []
          },
          "execution_count": 161
        }
      ]
    },
    {
      "cell_type": "code",
      "metadata": {
        "id": "Y_LLbUtb1MnA",
        "colab_type": "code",
        "colab": {}
      },
      "source": [
        "# prediction on the train data set\n",
        "y_pred = reg1.predict(x)\n",
        "x_pred = reg2.predict(y)"
      ],
      "execution_count": 0,
      "outputs": []
    },
    {
      "cell_type": "code",
      "metadata": {
        "id": "HV-fRkVq1aMC",
        "colab_type": "code",
        "outputId": "fc640961-0fb8-4744-8af6-3402a8134959",
        "colab": {
          "base_uri": "https://localhost:8080/",
          "height": 319
        }
      },
      "source": [
        "# compair actual output and predicted values\n",
        "df1 = pd.DataFrame({'Actual': y.flatten(), 'Predicted': y_pred.flatten()})\n",
        "df2 = pd.DataFrame({'Actual': x.flatten(), 'Predicted': x_pred.flatten()})\n",
        "residuals1=y-y_pred\n",
        "residuals2=x-x_pred\n",
        "res1_1D=residuals1.flatten()\n",
        "res2_1D=residuals2.flatten()\n",
        "res1=pd.Series(res1_1D)\n",
        "res2=pd.Series(res2_1D)\n",
        "mx=x.mean()\n",
        "my=y.mean()\n",
        "sx2 = ((x-mx)**2).sum()\n",
        "sy2 = ((y-my)**2).sum()\n",
        "er_ratio1 = sqrt(1./len(x) + mx*mx/sx2)\n",
        "er_ratio2 = sqrt(1./len(y) + my*my/sy2)\n",
        "print('error ratio1:',er_ratio1)\n",
        "print('error ratio2:',er_ratio2)\n",
        "#sd_intercept = see * sqrt(1./len(x) + mx*mx/sx2)\n",
        "r=res2\n",
        "#sd_slope = see * sqrt(1./sx2)\n",
        "#see??= std_error\n",
        "#type(residuals2)\n",
        "sigma=stdev(r)\n",
        "std_err=r[244]/sigma\n",
        "print(std_err)\n",
        "res1.hist()\n",
        "plt.show()"
      ],
      "execution_count": 163,
      "outputs": [
        {
          "output_type": "stream",
          "text": [
            "error ratio1: 0.6137926402279238\n",
            "error ratio2: 0.35661970175908975\n",
            "0.359463866336035\n"
          ],
          "name": "stdout"
        },
        {
          "output_type": "display_data",
          "data": {
            "image/png": "[encoded data removed]",
            "text/plain": [
              "<Figure size 432x288 with 1 Axes>"
            ]
          },
          "metadata": {
            "tags": [],
            "needs_background": "light"
          }
        }
      ]
    },
    {
      "cell_type": "code",
      "metadata": {
        "id": "QKH_68ML2UfK",
        "colab_type": "code",
        "colab": {}
      },
      "source": [
        "#print('Mean Absolute Error:', metrics.mean_absolute_error(y, y_pred))  \n",
        "#print('Mean Squared Error:', metrics.mean_squared_error(y, y_pred))  \n",
        "#print('Root Mean Squared Error:', np.sqrt(metrics.mean_squared_error(y, y_pred)))"
      ],
      "execution_count": 0,
      "outputs": []
    },
    {
      "cell_type": "code",
      "metadata": {
        "id": "Ae0x8YnGgs4S",
        "colab_type": "code",
        "colab": {}
      },
      "source": [
        "class StationarityTests:\n",
        "    def __init__(self, significance=.05):\n",
        "        self.SignificanceLevel = significance\n",
        "        self.pValue = None\n",
        "        self.isStationary = None\n",
        "    def ADF_Stationarity_Test(self, timeseries, printResults = True):\n",
        "        #Dickey-Fuller test:\n",
        "        adfTest = adfuller(timeseries, autolag='AIC')\n",
        "        \n",
        "        self.pValue = adfTest[1]\n",
        "        \n",
        "        if (self.pValue<self.SignificanceLevel):\n",
        "            self.isStationary = True\n",
        "        else:\n",
        "            self.isStationary = False\n",
        "        \n",
        "        if printResults:\n",
        "            dfResults = pd.Series(adfTest[0:4], index=['ADF Test Statistic','P-Value','# Lags Used','# Observations Used'])\n",
        "            #Add Critical Values\n",
        "            for key,value in adfTest[4].items():\n",
        "                dfResults['Critical Value (%s)'%key] = value\n",
        "            print('Augmented Dickey-Fuller Test Results:')\n",
        "            print(dfResults)"
      ],
      "execution_count": 0,
      "outputs": []
    },
    {
      "cell_type": "code",
      "metadata": {
        "id": "ibT6fnmjhTfb",
        "colab_type": "code",
        "outputId": "54a24eaf-b793-413c-fdb0-31c8121aa696",
        "colab": {
          "base_uri": "https://localhost:8080/",
          "height": 197
        }
      },
      "source": [
        "sTest = StationarityTests()\n",
        "sTest.ADF_Stationarity_Test(r, printResults = True)#non_stationary_series\n",
        "print(\"Is the time series stationary? {0}\".format(sTest.isStationary))"
      ],
      "execution_count": 166,
      "outputs": [
        {
          "output_type": "stream",
          "text": [
            "Augmented Dickey-Fuller Test Results:\n",
            "ADF Test Statistic       -1.996447\n",
            "P-Value                   0.288133\n",
            "# Lags Used               2.000000\n",
            "# Observations Used     242.000000\n",
            "Critical Value (1%)      -3.457664\n",
            "Critical Value (5%)      -2.873559\n",
            "Critical Value (10%)     -2.573175\n",
            "dtype: float64\n",
            "Is the time series stationary? False\n"
          ],
          "name": "stdout"
        }
      ]
    },
    {
      "cell_type": "code",
      "metadata": {
        "id": "9DaB3AK3Gn0k",
        "colab_type": "code",
        "outputId": "145d7890-0706-4f44-ffb1-b06482dc3b20",
        "colab": {
          "base_uri": "https://localhost:8080/",
          "height": 143
        }
      },
      "source": [
        "#series = read_csv('daily-total-female-births.csv', header=0, index_col=0, squeeze=True)\n",
        "p_value = r.values\n",
        "result = adfuller(p_value)\n",
        "print('ADF Statistic: %f' % result[0])\n",
        "print('p-value: %f' % result[1])\n",
        "print('Critical Values:')\n",
        "for key, value in result[4].items():\n",
        "\tprint('\\t%s: %.3f' % (key, value))\n",
        "result[1]"
      ],
      "execution_count": 167,
      "outputs": [
        {
          "output_type": "stream",
          "text": [
            "ADF Statistic: -1.996447\n",
            "p-value: 0.288133\n",
            "Critical Values:\n",
            "\t1%: -3.458\n",
            "\t5%: -2.874\n",
            "\t10%: -2.573\n"
          ],
          "name": "stdout"
        },
        {
          "output_type": "execute_result",
          "data": {
            "text/plain": [
              "0.2881333551509093"
            ]
          },
          "metadata": {
            "tags": []
          },
          "execution_count": 167
        }
      ]
    },
    {
      "cell_type": "code",
      "metadata": {
        "id": "2PmRVOUiCG5j",
        "colab_type": "code",
        "outputId": "bff7b762-6c46-4ee9-b7bc-42bb004b6076",
        "colab": {
          "base_uri": "https://localhost:8080/",
          "height": 80
        }
      },
      "source": [
        "sheet=[[symbol1,symbol2,intercept1,slope1,result[1],std_err,sigma]]\n",
        "df = pd.DataFrame(sheet, columns = ['y_stock', 'x_stock','intercept','beta/slope','p_value','std_err/z_score','sigma/'])\n",
        "df"
      ],
      "execution_count": 169,
      "outputs": [
        {
          "output_type": "execute_result",
          "data": {
            "text/html": [
              "<div>\n",
              "<style scoped>\n",
              "    .dataframe tbody tr th:only-of-type {\n",
              "        vertical-align: middle;\n",
              "    }\n",
              "\n",
              "    .dataframe tbody tr th {\n",
              "        vertical-align: top;\n",
              "    }\n",
              "\n",
              "    .dataframe thead th {\n",
              "        text-align: right;\n",
              "    }\n",
              "</style>\n",
              "<table border=\"1\" class=\"dataframe\">\n",
              "  <thead>\n",
              "    <tr style=\"text-align: right;\">\n",
              "      <th></th>\n",
              "      <th>y_stock</th>\n",
              "      <th>x_stock</th>\n",
              "      <th>intercept</th>\n",
              "      <th>beta/slope</th>\n",
              "      <th>p_value</th>\n",
              "      <th>std_err/z_score</th>\n",
              "      <th>sigma/</th>\n",
              "    </tr>\n",
              "  </thead>\n",
              "  <tbody>\n",
              "    <tr>\n",
              "      <th>0</th>\n",
              "      <td>HDFCBANK.NS</td>\n",
              "      <td>SBIN.NS</td>\n",
              "      <td>[-135.3551947901861]</td>\n",
              "      <td>[[0.37224721404634675]]</td>\n",
              "      <td>0.288133</td>\n",
              "      <td>0.359464</td>\n",
              "      <td>66.599327</td>\n",
              "    </tr>\n",
              "  </tbody>\n",
              "</table>\n",
              "</div>"
            ],
            "text/plain": [
              "       y_stock  x_stock  ... std_err/z_score     sigma/\n",
              "0  HDFCBANK.NS  SBIN.NS  ...        0.359464  66.599327\n",
              "\n",
              "[1 rows x 7 columns]"
            ]
          },
          "metadata": {
            "tags": []
          },
          "execution_count": 169
        }
      ]
    },
    {
      "cell_type": "code",
      "metadata": {
        "id": "uDqaZpd0UaN4",
        "colab_type": "code",
        "colab": {}
      },
      "source": [
        "def line(x):\n",
        "    "
      ],
      "execution_count": 0,
      "outputs": []
    }
  ]
}