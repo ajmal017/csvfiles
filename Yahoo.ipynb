{
  "nbformat": 4,
  "nbformat_minor": 0,
  "metadata": {
    "colab": {
      "name": "Yahoo.ipynb",
      "provenance": [],
      "collapsed_sections": [],
      "authorship_tag": "ABX9TyOdD6t9ptJcbCXbFo0yrc/R",
      "include_colab_link": true
    },
    "kernelspec": {
      "name": "python3",
      "display_name": "Python 3"
    }
  },
  "cells": [
    {
      "cell_type": "markdown",
      "metadata": {
        "id": "view-in-github",
        "colab_type": "text"
      },
      "source": [
        "<a href=\"https://colab.research.google.com/github/animalran/csvfiles/blob/master/Yahoo.ipynb\" target=\"_parent\"><img src=\"https://colab.research.google.com/assets/colab-badge.svg\" alt=\"Open In Colab\"/></a>"
      ]
    },
    {
      "cell_type": "code",
      "metadata": {
        "id": "gIqCc4oOgrDS",
        "colab_type": "code",
        "colab": {}
      },
      "source": [
        "!pip install git+https://github.com/animalran/yfinance-1/\n",
        "import yfinance as yf\n",
        "from pandas_datareader import data as pdr \n",
        "yf.pdr_override()\n",
        "import pandas as pd\n"
      ],
      "execution_count": 0,
      "outputs": []
    },
    {
      "cell_type": "code",
      "metadata": {
        "id": "7q_4UCr_ijeh",
        "colab_type": "code",
        "outputId": "6702552d-492e-446a-bba8-9006902ca174",
        "colab": {
          "base_uri": "https://localhost:8080/",
          "height": 557
        }
      },
      "source": [
        "#data=pdr.get_data_yahoo(\"INFY\",start=\"2020-05-14\",end=\"2020-05-19\")\n",
        "\n",
        "#print(data)\n",
        "msft=yf.Ticker(\"TCS.NS\")\n",
        "balance=msft.get_balance_sheet(proxy=\"PROXY_SERVER\")\n",
        "cashflow=msft.get_cashflow(proxy=\"PROXY_SERVER\")\n",
        "financials=msft.get_financials(proxy=\"PROXY_SERVER\")\n",
        "earnings=msft.get_earnings(proxy=\"PROXY_SERVER\")\n",
        "holders=msft.get_institutional_holders(proxy=\"PROXY_SERVER\")\n",
        "beta=1\n",
        "market_RoR = .15\n",
        "risk_free = .064\n",
        "f5 = .14\n",
        "s5 = .09\n",
        "tg = .04\n",
        "#option_chain=msft.get_option_chain(proxy=\"PROXY_SERVER\")\n",
        "balance_trans = balance.T\n",
        "#df = pd.DataFrame(data=x)\n",
        "#print(df)\n",
        "balance_trans['A'] = list(range(len(balance_trans.index)))\n",
        "cash=int(balance_trans.loc[:,\"Cash\"][0])/10000000\n",
        "cashflow_trans=cashflow.T\n",
        "cashflow_trans['A']= list(range(len(cashflow_trans.index)))\n",
        "cashflow_trans\n",
        "capex=cashflow_trans.loc[:,\"Capital Expenditures\"]/10000000\n",
        "brw     =  int(balance_trans.loc[:,\"Deferred Long Term Liab\"][0])+int(balance_trans.loc[:,\"Other Current Liab\"][0])\n",
        "brw     =   brw/10000000\n",
        "br=int(balance_trans.loc[:,\"Retained Earnings\"][0])\n",
        "br=br/10000000\n",
        "financials_trans     = financials.T\n",
        "financials_trans['A']= list(range(len(financials_trans.index)))\n",
        "interest        =   int(financials_trans.loc[:,\"Interest Expense\"][0])\n",
        "interest        =   interest/10000000\n",
        "total_liab      =   int(balance_trans.loc[:,\"Total Liab\"][0])/10000000\n",
        "print(balance)\n",
        "stock_eq        =   int(balance_trans.loc[:,\"Total Stockholder Equity\"][0])/10000000\n",
        "def_lia         =   int(balance_trans.loc[:,\"Deferred Long Term Liab\"][0])/10000000\n",
        "ta              =   int(balance_trans.loc[:,\"Total Assets\"][0])/10000000\n",
        "common          =   "
      ],
      "execution_count": 38,
      "outputs": [
        {
          "output_type": "stream",
          "text": [
            "                                    2020-03-31  ...    2017-03-31\n",
            "Intangible Assets                 2.830000e+09  ...  4.700000e+08\n",
            "Total Liab                        3.615000e+11  ...  1.667200e+11\n",
            "Total Stockholder Equity          8.412600e+11  ...  8.621400e+11\n",
            "Minority Interest                 6.230000e+09  ...  3.660000e+09\n",
            "Deferred Long Term Liab           2.860000e+09  ...           NaN\n",
            "Other Current Liab                9.520000e+10  ...  4.778000e+10\n",
            "Total Assets                      1.208990e+12  ...  1.032520e+12\n",
            "Common Stock                      3.750000e+09  ...  1.970000e+09\n",
            "Other Current Assets              1.837000e+10  ...  1.620000e+10\n",
            "Retained Earnings                 8.080600e+11  ...  8.193500e+11\n",
            "Other Liab                        2.184000e+10  ...  2.089000e+10\n",
            "Good Will                         1.710000e+10  ...  1.597000e+10\n",
            "Treasury Stock                    2.945000e+10  ...  2.163000e+10\n",
            "Other Assets                      8.427000e+10  ...  9.490000e+10\n",
            "Cash                              8.646000e+10  ...  3.597000e+10\n",
            "Total Current Liabilities         2.706000e+11  ...  1.451200e+11\n",
            "Deferred Long Term Asset Charges  2.828000e+10  ...  2.828000e+10\n",
            "Other Stockholder Equity          2.945000e+10  ...  2.163000e+10\n",
            "Property Plant Equipment          1.984100e+11  ...  1.159800e+11\n",
            "Total Current Assets              9.023700e+11  ...  8.031600e+11\n",
            "Long Term Investments             4.010000e+09  ...  2.040000e+09\n",
            "Net Tangible Assets               8.213300e+11  ...  8.457000e+11\n",
            "Short Term Investments            9.650000e+09  ...  4.700000e+09\n",
            "Net Receivables                   5.115700e+11  ...  3.196300e+11\n",
            "Inventory                         5.000000e+07  ...  2.100000e+08\n",
            "Accounts Payable                  6.740000e+10  ...  4.905000e+10\n",
            "Capital Surplus                            NaN  ...  1.919000e+10\n",
            "\n",
            "[27 rows x 4 columns]\n"
          ],
          "name": "stdout"
        }
      ]
    }
  ]
}