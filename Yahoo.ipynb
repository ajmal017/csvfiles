{
  "nbformat": 4,
  "nbformat_minor": 0,
  "metadata": {
    "colab": {
      "name": "Yahoo.ipynb",
      "provenance": [],
      "authorship_tag": "ABX9TyPRySmuyHcKwJgodd0G14KE",
      "include_colab_link": true
    },
    "kernelspec": {
      "name": "python3",
      "display_name": "Python 3"
    }
  },
  "cells": [
    {
      "cell_type": "markdown",
      "metadata": {
        "id": "view-in-github",
        "colab_type": "text"
      },
      "source": [
        "<a href=\"https://colab.research.google.com/github/animalran/csvfiles/blob/master/Yahoo.ipynb\" target=\"_parent\"><img src=\"https://colab.research.google.com/assets/colab-badge.svg\" alt=\"Open In Colab\"/></a>"
      ]
    },
    {
      "cell_type": "code",
      "metadata": {
        "id": "gIqCc4oOgrDS",
        "colab_type": "code",
        "colab": {}
      },
      "source": [
        "!pip install git+https://github.com/animalran/yfinance-1/\n",
        "import yfinance as yf\n",
        "from pandas_datareader import data as pdr \n",
        "yf.pdr_override()\n",
        "import pandas as pd\n"
      ],
      "execution_count": 0,
      "outputs": []
    },
    {
      "cell_type": "code",
      "metadata": {
        "id": "7q_4UCr_ijeh",
        "colab_type": "code",
        "colab": {
          "base_uri": "https://localhost:8080/",
          "height": 35
        },
        "outputId": "e996e57a-fbe3-4f6c-b8e0-515b23bdb4c3"
      },
      "source": [
        "#data=pdr.get_data_yahoo(\"INFY\",start=\"2020-05-14\",end=\"2020-05-19\")\n",
        "\n",
        "#print(data)\n",
        "msft=yf.Ticker(\"TCS.NS\")\n",
        "balance=msft.get_balance_sheet(proxy=\"PROXY_SERVER\")\n",
        "cashflow=msft.get_cashflow(proxy=\"PROXY_SERVER\")\n",
        "earnings=msft.get_financials(proxy=\"PROXY_SERVER\")\n",
        "holders=msft.get_institutional_holders(proxy=\"PROXY_SERVER\")\n",
        "#option_chain=msft.get_option_chain(proxy=\"PROXY_SERVER\")\n",
        "balance_trans = balance.T\n",
        "#df = pd.DataFrame(data=x)\n",
        "#print(df)\n",
        "balance_trans['A'] = list(range(len(balance_trans.index)))\n",
        "cash=int(balance_trans.loc[:,\"Cash\"][0])/10000000\n",
        "print(cash)\n",
        "cashflow_trans=cashflow.T\n",
        "cashflow_trans['A']= list(range(len(cashflow_trans.index)))"
      ],
      "execution_count": 121,
      "outputs": [
        {
          "output_type": "stream",
          "text": [
            "9666.0\n"
          ],
          "name": "stdout"
        }
      ]
    }
  ]
}