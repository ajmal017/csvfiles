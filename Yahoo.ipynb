{
  "nbformat": 4,
  "nbformat_minor": 0,
  "metadata": {
    "colab": {
      "name": "Yahoo.ipynb",
      "provenance": [],
      "collapsed_sections": [],
      "authorship_tag": "ABX9TyOH9r14X4YlsoKP00RbPik5",
      "include_colab_link": true
    },
    "kernelspec": {
      "name": "python3",
      "display_name": "Python 3"
    }
  },
  "cells": [
    {
      "cell_type": "markdown",
      "metadata": {
        "id": "view-in-github",
        "colab_type": "text"
      },
      "source": [
        "<a href=\"https://colab.research.google.com/github/animalran/csvfiles/blob/master/Yahoo.ipynb\" target=\"_parent\"><img src=\"https://colab.research.google.com/assets/colab-badge.svg\" alt=\"Open In Colab\"/></a>"
      ]
    },
    {
      "cell_type": "code",
      "metadata": {
        "id": "gIqCc4oOgrDS",
        "colab_type": "code",
        "colab": {}
      },
      "source": [
        "!pip install git+https://github.com/animalran/yfinance-1/\n",
        "import yfinance as yf\n",
        "from pandas_datareader import data as pdr \n",
        "yf.pdr_override()\n",
        "import pandas as pd\n"
      ],
      "execution_count": 0,
      "outputs": []
    },
    {
      "cell_type": "code",
      "metadata": {
        "id": "7q_4UCr_ijeh",
        "colab_type": "code",
        "colab": {
          "base_uri": "https://localhost:8080/",
          "height": 269
        },
        "outputId": "f67a8105-d63a-475a-8716-94569e47df9e"
      },
      "source": [
        "#data=pdr.get_data_yahoo(\"INFY\",start=\"2020-05-14\",end=\"2020-05-19\")\n",
        "\n",
        "#print(data)\n",
        "msft=yf.Ticker(\"VEDL.NS\")\n",
        "balance=msft.get_balance_sheet(proxy=\"PROXY_SERVER\")\n",
        "cashflow=msft.get_cashflow(proxy=\"PROXY_SERVER\")\n",
        "financials=msft.get_financials(proxy=\"PROXY_SERVER\")\n",
        "earnings=msft.get_earnings(proxy=\"PROXY_SERVER\")\n",
        "holders=msft.get_institutional_holders(proxy=\"PROXY_SERVER\")\n",
        "beta=1\n",
        "market_RoR = .15\n",
        "risk_free = .064\n",
        "f5 = .14\n",
        "s5 = .09\n",
        "tg = .04\n",
        "Tc = .30\n",
        "#option_chain=msft.get_option_chain(proxy=\"PROXY_SERVER\")\n",
        "balance_trans = balance.T\n",
        "#df = pd.DataFrame(data=x)\n",
        "#print(df)\n",
        "balance_trans['A'] = list(range(len(balance_trans.index)))\n",
        "cash=int(balance_trans.loc[:,\"Cash\"][0])/10000000\n",
        "cashflow_trans=cashflow.T\n",
        "cashflow_trans['A']= list(range(len(cashflow_trans.index)))\n",
        "cashflow_trans\n",
        "capex=cashflow_trans.loc[:,\"Capital Expenditures\"]/10000000\n",
        "#brw             =  int(balance_trans.loc[:,\"Deferred Long Term Liab\"][0])+int(balance_trans.loc[:,\"Other Current Liab\"][0])\n",
        "#brw             =   brw/10000000\n",
        "br              =int(balance_trans.loc[:,\"Retained Earnings\"][0])\n",
        "br=br/10000000\n",
        "financials_trans= financials.T\n",
        "financials_trans['A']= list(range(len(financials_trans.index)))\n",
        "interest        =   int(financials_trans.loc[:,\"Interest Expense\"][0])\n",
        "interest        =   -1*interest/10000000\n",
        "brw_ol              =   int(balance_trans.loc[:,\"Total Liab\"][0])/10000000\n",
        "oli              =int(balance_trans.loc[:,\"Other Liab\"][0])/1000000\n",
        "#print(balance)\n",
        "E        =   int(balance_trans.loc[:,\"Total Stockholder Equity\"][0])/10000000\n",
        "#def_lia         =   int(balance_trans.loc[:,\"Deferred Long Term Liab\"][0])/10000000\n",
        "TA              =   int(balance_trans.loc[:,\"Total Assets\"][0])/10000000\n",
        "share_cap       =   int(balance_trans.loc[:,\"Common Stock\"][0])/10000000\n",
        "r_earn          =   int(balance_trans.loc[:,\"Retained Earnings\"][0])/10000000\n",
        "tcl             =   int(balance_trans.loc[:,\"Total Current Liabilities\"][0])/10000000\n",
        "tca             =   int(balance_trans.loc[:,\"Total Current Assets\"][0])/10000000\n",
        "inv             =   int(balance_trans.loc[:,\"Inventory\"][0])/10000000\n",
        "ose             =   int(balance_trans.loc[:,\"Other Stockholder Equity\"][0])/10000000\n",
        "ap              =   int(balance_trans.loc[:,\"Accounts Payable\"][0])/10000000\n",
        "#\n",
        "D = brw_ol-tcl\n",
        "asdf=D/E\n",
        "print(brw_ol)\n",
        "print(E)\n",
        "print(A)\n",
        "print(share_cap)\n",
        "print(r_earn)\n",
        "print(interest)\n",
        "print(inv)\n",
        "print(ap)\n",
        "print(brw)\n",
        "print(asdf)\n",
        "capex1=int(cashflow_trans.loc[:,\"Capital Expenditures\"][0])/-10000000\n",
        "capex2=int(cashflow_trans.loc[:,\"Capital Expenditures\"][1])/-10000000\n",
        "capex3=int(cashflow_trans.loc[:,\"Capital Expenditures\"][2])/-10000000\n",
        "capex4=int(cashflow_trans.loc[:,\"Capital Expenditures\"][3])/-10000000\n",
        "#\n",
        "Re = risk_free+beta*(market_RoR-risk_free)\n",
        "Rd = interest/D\n",
        "A = E+D\n",
        "dis = E/A*Re+(1-Tc)*D/A*Rd\n",
        "f5 = .14\n",
        "s5 = .09\n",
        "tg = .04\n",
        "print(Re)\n",
        "print(Rd)\n",
        "print(dis)\n",
        "cashflow\n",
        "co1=int(cashflow_trans.loc[:,\"Total Cash From Operating Activities\"][0])/10000000\n"
      ],
      "execution_count": 51,
      "outputs": [
        {
          "output_type": "stream",
          "text": [
            "124519.0\n",
            "62297.0\n",
            "110175.0\n",
            "372.0\n",
            "17831.0\n",
            "5241.0\n",
            "13198.0\n",
            "17352.0\n",
            "47878.0\n",
            "0.7685442316644461\n",
            "0.15\n",
            "0.10946572538535444\n",
            "0.1181143635125936\n"
          ],
          "name": "stdout"
        },
        {
          "output_type": "execute_result",
          "data": {
            "text/plain": [
              "23754.0"
            ]
          },
          "metadata": {
            "tags": []
          },
          "execution_count": 51
        }
      ]
    }
  ]
}