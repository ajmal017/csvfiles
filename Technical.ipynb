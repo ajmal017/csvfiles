{
  "nbformat": 4,
  "nbformat_minor": 0,
  "metadata": {
    "colab": {
      "name": "Technical.ipynb",
      "provenance": [],
      "collapsed_sections": [],
      "authorship_tag": "ABX9TyMJ1JLn10pFdQiphsGjWR5u",
      "include_colab_link": true
    },
    "kernelspec": {
      "name": "python3",
      "display_name": "Python 3"
    }
  },
  "cells": [
    {
      "cell_type": "markdown",
      "metadata": {
        "id": "view-in-github",
        "colab_type": "text"
      },
      "source": [
        "<a href=\"https://colab.research.google.com/github/animalran/csvfiles/blob/master/Technical.ipynb\" target=\"_parent\"><img src=\"https://colab.research.google.com/assets/colab-badge.svg\" alt=\"Open In Colab\"/></a>"
      ]
    },
    {
      "cell_type": "code",
      "metadata": {
        "id": "hkW4T9LX0lVs",
        "colab_type": "code",
        "outputId": "ca498f37-f863-4d31-bed1-e87857543907",
        "colab": {
          "base_uri": "https://localhost:8080/",
          "height": 253
        }
      },
      "source": [
        "import requests\n",
        "import pandas as pd\n",
        "!pip install yfinance"
      ],
      "execution_count": 0,
      "outputs": [
        {
          "output_type": "stream",
          "text": [
            "Requirement already satisfied: yfinance in /usr/local/lib/python3.6/dist-packages (0.1.54)\n",
            "Requirement already satisfied: multitasking>=0.0.7 in /usr/local/lib/python3.6/dist-packages (from yfinance) (0.0.9)\n",
            "Requirement already satisfied: numpy>=1.15 in /usr/local/lib/python3.6/dist-packages (from yfinance) (1.18.4)\n",
            "Requirement already satisfied: pandas>=0.24 in /usr/local/lib/python3.6/dist-packages (from yfinance) (1.0.3)\n",
            "Requirement already satisfied: requests>=2.20 in /usr/local/lib/python3.6/dist-packages (from yfinance) (2.23.0)\n",
            "Requirement already satisfied: python-dateutil>=2.6.1 in /usr/local/lib/python3.6/dist-packages (from pandas>=0.24->yfinance) (2.8.1)\n",
            "Requirement already satisfied: pytz>=2017.2 in /usr/local/lib/python3.6/dist-packages (from pandas>=0.24->yfinance) (2018.9)\n",
            "Requirement already satisfied: urllib3!=1.25.0,!=1.25.1,<1.26,>=1.21.1 in /usr/local/lib/python3.6/dist-packages (from requests>=2.20->yfinance) (1.24.3)\n",
            "Requirement already satisfied: certifi>=2017.4.17 in /usr/local/lib/python3.6/dist-packages (from requests>=2.20->yfinance) (2020.4.5.1)\n",
            "Requirement already satisfied: idna<3,>=2.5 in /usr/local/lib/python3.6/dist-packages (from requests>=2.20->yfinance) (2.9)\n",
            "Requirement already satisfied: chardet<4,>=3.0.2 in /usr/local/lib/python3.6/dist-packages (from requests>=2.20->yfinance) (3.0.4)\n",
            "Requirement already satisfied: six>=1.5 in /usr/local/lib/python3.6/dist-packages (from python-dateutil>=2.6.1->pandas>=0.24->yfinance) (1.12.0)\n"
          ],
          "name": "stdout"
        }
      ]
    },
    {
      "cell_type": "code",
      "metadata": {
        "id": "0v_4C_tK8ih4",
        "colab_type": "code",
        "outputId": "78cec0f2-d436-4844-f62b-cafdc23e63c2",
        "colab": {
          "base_uri": "https://localhost:8080/",
          "height": 665
        }
      },
      "source": [
        "import yfinance as yf\n",
        "\n",
        "stock=[\"JUBLFOOD.NS\",\"TATACONSUM.NS\",\"MARICO.NS\",\"PGHH.NS\",\"DABUR.NS\",\"MCDOWELL-N.NS\",\"BRITANNIA.NS\",\"COLPAL.NS\",\"NESTLEIND.NS\",\"UBL.NS\",\"GODREJCP.NS\",\"HINDUNILVR.NS\",\"GODREJIND.NS\",\"EMAMILTD.NS\",\"ITC.NS\"]\n",
        "stock1=[\"GAIL.NS\",\"NTPC.NS\",\"POWERGRID.NS\",\"ONGC.NS\",\"RELIANCE.NS\",\"ADANITRANS.NS\",\"BPCL.NS\",\"IOC.NS\",\"TATAPOWER.NS\",\"HINDPETRO.NS\"]\n",
        "stock2=[\"TATAMOTORS.NS\",\"M&M.NS\",\"TVSMOTOR.NS\",\"MOTHERSUMI.NS\",\"HEROMOTOCO.NS\",\"BAJAJ-AUTO.NS\",\"APOLLOTYRE.NS\",\"BHARATFORG.NS\",\"MRF.NS\",\"EICHERMOT.NS\",\"EXIDEIND.NS\",\"MARUTI.NS\",\"AMARAJABAT.NS\",\"BOSCHLTD.NS\",\"ASHOKLEY.NS\"]\n",
        "stock3=[\"AUROPHARMA.NS\",\"GLENMARK.NS\",\"PEL.NS\",\"BIOCON.NS\",\"DIVISLAB.NS\",\"LUPIN.NS\",\"CADILAHC.NS\",\"SUNPHARMA.NS\",\"DRREDDY.NS\",\"CIPLA.NS\"]\n",
        "stock4=[\"SBIN.NS\",\"HDFCBANK.NS\",\"HDFC.NS\",\"RBLBANK.NS\",\"BANDHANBNK.NS\",\"ICICIBANK.NS\",\"FEDERALBNK.NS\",\"INDUSINDBK.NS\",\"AXISBANK.NS\",\"PNB.NS\",\"KOTAKBANK.NS\",\"BANKBARODA.NS\"]\n",
        "stock5=[\"M&MFIN.NS\",\"CHOLAFIN.NS\",\"ICICIPRULI.NS\",\"IBULHSGFIN.NS\",\"BAJFINANCE.NS\",\"SRTRANSFIN.NS\",\"HDFCLIFE.NS\",\"SBILIFE.NS\",\"RECLTD.NS\",\"BAJAJFINSV.NS\",\"BAJAJHLDNG.NS\",\"ICICIGI.NS\",\"PFC.NS\",\"EDELWEISS.NS\"]\n",
        "def raw(x):\n",
        "    msft = yf.Ticker(x)\n",
        "    hist = msft.history(period=\"38d\")\n",
        "    #vol10=[hist[\"Volume\"][27]+hist[\"Volume\"][36]+hist[\"Volume\"][35]+hist[\"Volume\"][34]+hist[\"Volume\"][33]+hist[\"Volume\"][32]+hist[\"Volume\"][31]+hist[\"Volume\"][30]+hist[\"Volume\"][29]+hist[\"Volume\"][28]]/10\n",
        "    #h=hist[\"Volume\"]\n",
        "    #ran=h.iloc[27:37]\n",
        "    #df=pd.DataFrame(ran)\n",
        "    #vol10=df.mean(axis=0)\n",
        "    #vol=hist[\"Volume\"][36]\n",
        "    vo=hist[\"Open\"][37]\n",
        "    vh=hist[\"High\"][37]\n",
        "    vl=hist[\"Low\"][37]\n",
        "    vc=hist[\"Close\"][37]\n",
        "    v1o=hist[\"Open\"][36]\n",
        "    v1h=hist[\"High\"][36]\n",
        "    v1l=hist[\"Low\"][36]\n",
        "    v1c=hist[\"Close\"][36]\n",
        "    v2o=hist[\"Open\"][35]\n",
        "    v2h=hist[\"High\"][35]\n",
        "    v2l=hist[\"Low\"][35]\n",
        "    v2c=hist[\"Close\"][35]\n",
        "    v20o=hist[\"Open\"][19]\n",
        "    v20h=hist[\"High\"][19]\n",
        "    v20l=hist[\"Low\"][19]\n",
        "    v20c=hist[\"Close\"][19]\n",
        "    v38o=hist[\"Open\"][0]\n",
        "    v38h=hist[\"High\"][0]\n",
        "    v38l=hist[\"Low\"][0]\n",
        "    v38c=hist[\"Close\"][0]\n",
        "    if((vo > vh*0.9975) and (vc < vl*1.0025)):# and (vol>vol10)):\n",
        "        print(\"Bear Marubozo\")\n",
        "    if((vc > vh*0.9975) and (vo < vl*1.0025)):# and (vol>vol10)):\n",
        "        print(\"Bull Marubozo\")\n",
        "    if((vc < vo*1.0025) and (vc > vo)):\n",
        "        print(\"Doji\")\n",
        "    if((vc > vo*0.9975) and (vc < vo)):\n",
        "        print(\"Doji\")\n",
        "    if(((vo-vl) > 2*(vc-vo)) and (vc > vh*.9975)):\n",
        "        print(\"Hammer\")\n",
        "    if(((vc-vl) > 2*(vo-vc)) and (vo > vh*.9975)):\n",
        "        print(\"Hanging man\")\n",
        "    if(((vl<v20h*.7500) or (vl<v38h*.7000)) and (v1c<v1o) and (vo<v1c) and (vc>v1o)):# and (vol>vol10)):\n",
        "        print(\"Bullish Engulfing\")\n",
        "    if(((vh>v20h*1.2500) or (vh>v38h*1.3000)) and (v1c>v1o) and (vo>v1c) and (vc<v1o)):# and (vol>vol10)):\n",
        "        print(\"Bearish Engulfing\")\n",
        "\n",
        "for i in stock:\n",
        "    print(i)\n",
        "    coll=raw(i)\n",
        "    print(coll)\n"
      ],
      "execution_count": 0,
      "outputs": [
        {
          "output_type": "stream",
          "text": [
            "JUBLFOOD.NS\n",
            "Doji\n",
            "None\n",
            "TATACONSUM.NS\n",
            "None\n",
            "MARICO.NS\n",
            "Doji\n",
            "None\n",
            "PGHH.NS\n",
            "None\n",
            "DABUR.NS\n",
            "Doji\n",
            "None\n",
            "MCDOWELL-N.NS\n",
            "None\n",
            "BRITANNIA.NS\n",
            "None\n",
            "COLPAL.NS\n",
            "Hanging man\n",
            "None\n",
            "NESTLEIND.NS\n",
            "Doji\n",
            "None\n",
            "UBL.NS\n",
            "None\n",
            "GODREJCP.NS\n",
            "None\n",
            "HINDUNILVR.NS\n",
            "None\n",
            "GODREJIND.NS\n",
            "Bullish Engulfing\n",
            "None\n",
            "EMAMILTD.NS\n",
            "None\n",
            "ITC.NS\n",
            "None\n"
          ],
          "name": "stdout"
        }
      ]
    },
    {
      "cell_type": "code",
      "metadata": {
        "id": "4duFJCDg4PYh",
        "colab_type": "code",
        "outputId": "18c41887-f1d7-4bf7-bad1-2e94b4815761",
        "colab": {
          "base_uri": "https://localhost:8080/",
          "height": 395
        }
      },
      "source": [
        "for i in stock1:\n",
        "    print(i)\n",
        "    c=raw(i)\n",
        "    print(c)"
      ],
      "execution_count": 0,
      "outputs": [
        {
          "output_type": "stream",
          "text": [
            "GAIL.NS\n",
            "None\n",
            "NTPC.NS\n",
            "None\n",
            "POWERGRID.NS\n",
            "Doji\n",
            "None\n",
            "ONGC.NS\n",
            "None\n",
            "RELIANCE.NS\n",
            "None\n",
            "ADANITRANS.NS\n",
            "None\n",
            "BPCL.NS\n",
            "None\n",
            "IOC.NS\n",
            "None\n",
            "TATAPOWER.NS\n",
            "None\n",
            "HINDPETRO.NS\n",
            "None\n"
          ],
          "name": "stdout"
        }
      ]
    },
    {
      "cell_type": "code",
      "metadata": {
        "id": "acHvY8SQbhIK",
        "colab_type": "code",
        "outputId": "77fec01e-68f3-4339-8623-4376008ebc7e",
        "colab": {
          "base_uri": "https://localhost:8080/",
          "height": 593
        }
      },
      "source": [
        "for i in stock2:    \n",
        "    print(i)    \n",
        "    c=raw(i)    \n",
        "    print(c)"
      ],
      "execution_count": 0,
      "outputs": [
        {
          "output_type": "stream",
          "text": [
            "TATAMOTORS.NS\n",
            "None\n",
            "M&M.NS\n",
            "None\n",
            "TVSMOTOR.NS\n",
            "None\n",
            "MOTHERSUMI.NS\n",
            "None\n",
            "HEROMOTOCO.NS\n",
            "None\n",
            "BAJAJ-AUTO.NS\n",
            "Bull Marubozo\n",
            "None\n",
            "APOLLOTYRE.NS\n",
            "None\n",
            "BHARATFORG.NS\n",
            "None\n",
            "MRF.NS\n",
            "None\n",
            "EICHERMOT.NS\n",
            "None\n",
            "EXIDEIND.NS\n",
            "None\n",
            "MARUTI.NS\n",
            "None\n",
            "AMARAJABAT.NS\n",
            "Bull Marubozo\n",
            "None\n",
            "BOSCHLTD.NS\n",
            "None\n",
            "ASHOKLEY.NS\n",
            "None\n"
          ],
          "name": "stdout"
        }
      ]
    },
    {
      "cell_type": "code",
      "metadata": {
        "id": "hOnNaVdTbhXg",
        "colab_type": "code",
        "outputId": "6338d8c6-c54f-468c-ff8d-d0bdaba4d69a",
        "colab": {
          "base_uri": "https://localhost:8080/",
          "height": 395
        }
      },
      "source": [
        "for i in stock3:    \n",
        "    print(i)    \n",
        "    c=raw(i)    \n",
        "    print(c)"
      ],
      "execution_count": 0,
      "outputs": [
        {
          "output_type": "stream",
          "text": [
            "AUROPHARMA.NS\n",
            "None\n",
            "GLENMARK.NS\n",
            "None\n",
            "PEL.NS\n",
            "None\n",
            "BIOCON.NS\n",
            "None\n",
            "DIVISLAB.NS\n",
            "None\n",
            "LUPIN.NS\n",
            "Doji\n",
            "None\n",
            "CADILAHC.NS\n",
            "None\n",
            "SUNPHARMA.NS\n",
            "None\n",
            "DRREDDY.NS\n",
            "None\n",
            "CIPLA.NS\n",
            "None\n"
          ],
          "name": "stdout"
        }
      ]
    },
    {
      "cell_type": "code",
      "metadata": {
        "id": "s4l8Ubfdbi5g",
        "colab_type": "code",
        "outputId": "3faabfa4-9c2d-4eff-d91e-a0ddd0712840",
        "colab": {
          "base_uri": "https://localhost:8080/",
          "height": 485
        }
      },
      "source": [
        "for i in stock4:    \n",
        "    print(i)    \n",
        "    c=raw(i)    \n",
        "    print(c)"
      ],
      "execution_count": 0,
      "outputs": [
        {
          "output_type": "stream",
          "text": [
            "SBIN.NS\n",
            "Doji\n",
            "None\n",
            "HDFCBANK.NS\n",
            "None\n",
            "HDFC.NS\n",
            "None\n",
            "RBLBANK.NS\n",
            "None\n",
            "BANDHANBNK.NS\n",
            "None\n",
            "ICICIBANK.NS\n",
            "None\n",
            "FEDERALBNK.NS\n",
            "None\n",
            "INDUSINDBK.NS\n",
            "None\n",
            "AXISBANK.NS\n",
            "None\n",
            "PNB.NS\n",
            "None\n",
            "KOTAKBANK.NS\n",
            "None\n",
            "BANKBARODA.NS\n",
            "Hanging man\n",
            "None\n"
          ],
          "name": "stdout"
        }
      ]
    },
    {
      "cell_type": "code",
      "metadata": {
        "id": "DBq_xo_Mbott",
        "colab_type": "code",
        "outputId": "23645c7a-a6ad-4447-f369-c12428defdee",
        "colab": {
          "base_uri": "https://localhost:8080/",
          "height": 557
        }
      },
      "source": [
        "for i in stock5:    \n",
        "    print(i)    \n",
        "    c=raw(i)    \n",
        "    print(c)"
      ],
      "execution_count": 0,
      "outputs": [
        {
          "output_type": "stream",
          "text": [
            "M&MFIN.NS\n",
            "None\n",
            "CHOLAFIN.NS\n",
            "None\n",
            "ICICIPRULI.NS\n",
            "None\n",
            "IBULHSGFIN.NS\n",
            "None\n",
            "BAJFINANCE.NS\n",
            "None\n",
            "SRTRANSFIN.NS\n",
            "None\n",
            "HDFCLIFE.NS\n",
            "None\n",
            "SBILIFE.NS\n",
            "None\n",
            "RECLTD.NS\n",
            "None\n",
            "BAJAJFINSV.NS\n",
            "None\n",
            "BAJAJHLDNG.NS\n",
            "None\n",
            "ICICIGI.NS\n",
            "None\n",
            "PFC.NS\n",
            "None\n",
            "EDELWEISS.NS\n",
            "Hammer\n",
            "Hanging man\n",
            "None\n"
          ],
          "name": "stdout"
        }
      ]
    }
  ]
}